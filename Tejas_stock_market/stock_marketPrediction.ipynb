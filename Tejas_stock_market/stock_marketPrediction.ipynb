{
  "cells": [
    {
      "cell_type": "markdown",
      "id": "41a64844",
      "metadata": {
        "id": "41a64844"
      },
      "source": [
        "# Stock Market Prediction And Forecasting Using Stacked LSTM\n",
        "\n",
        "**Dataset: NSE-TATAGLOBAL.csv**"
      ]
    },
    {
      "cell_type": "code",
      "execution_count": 32,
      "id": "47dbac29",
      "metadata": {
        "id": "47dbac29"
      },
      "outputs": [],
      "source": [
        "\n"
      ]
    },
    {
      "cell_type": "code",
      "execution_count": 33,
      "id": "2f91b367",
      "metadata": {
        "id": "2f91b367"
      },
      "outputs": [],
      "source": [
        "#importing all required packages and libaries\n",
        "\n",
        "import pandas as pd\n",
        "import numpy as np\n",
        "import seaborn as sns\n",
        "import matplotlib.pyplot as plt\n",
        "%matplotlib inline"
      ]
    },
    {
      "cell_type": "markdown",
      "id": "af4b9ae5",
      "metadata": {
        "id": "af4b9ae5"
      },
      "source": [
        "Reading the data set which in form of link"
      ]
    },
    {
      "cell_type": "code",
      "execution_count": 34,
      "id": "aa60fadf",
      "metadata": {
        "id": "aa60fadf"
      },
      "outputs": [],
      "source": [
        "df =pd.read_csv('https://raw.githubusercontent.com/mwitiderrick/stockprice/master/NSE-TATAGLOBAL.csv')"
      ]
    },
    {
      "cell_type": "markdown",
      "id": "054a644a",
      "metadata": {
        "id": "054a644a"
      },
      "source": [
        "Display the data frame"
      ]
    },
    {
      "cell_type": "code",
      "execution_count": 35,
      "id": "1513daeb",
      "metadata": {
        "colab": {
          "base_uri": "https://localhost:8080/",
          "height": 206
        },
        "id": "1513daeb",
        "outputId": "f19568dc-0096-47e9-cf7e-84c5dc9a1eb5"
      },
      "outputs": [
        {
          "output_type": "execute_result",
          "data": {
            "text/plain": [
              "            Date   Open    High     Low    Last   Close  Total Trade Quantity  \\\n",
              "2034  2010-07-21  122.1  123.00  121.05  121.10  121.55                658666   \n",
              "2033  2010-07-22  120.3  122.00  120.25  120.75  120.90                293312   \n",
              "2032  2010-07-23  121.8  121.95  120.25  120.35  120.65                281312   \n",
              "2031  2010-07-26  120.1  121.00  117.10  117.10  117.60                658440   \n",
              "2030  2010-07-27  117.6  119.50  112.00  118.80  118.65                586100   \n",
              "\n",
              "      Turnover (Lacs)  \n",
              "2034           803.56  \n",
              "2033           355.17  \n",
              "2032           340.31  \n",
              "2031           780.01  \n",
              "2030           694.98  "
            ],
            "text/html": [
              "\n",
              "\n",
              "  <div id=\"df-11417b5a-21d8-4242-8bc6-d37494df0f44\">\n",
              "    <div class=\"colab-df-container\">\n",
              "      <div>\n",
              "<style scoped>\n",
              "    .dataframe tbody tr th:only-of-type {\n",
              "        vertical-align: middle;\n",
              "    }\n",
              "\n",
              "    .dataframe tbody tr th {\n",
              "        vertical-align: top;\n",
              "    }\n",
              "\n",
              "    .dataframe thead th {\n",
              "        text-align: right;\n",
              "    }\n",
              "</style>\n",
              "<table border=\"1\" class=\"dataframe\">\n",
              "  <thead>\n",
              "    <tr style=\"text-align: right;\">\n",
              "      <th></th>\n",
              "      <th>Date</th>\n",
              "      <th>Open</th>\n",
              "      <th>High</th>\n",
              "      <th>Low</th>\n",
              "      <th>Last</th>\n",
              "      <th>Close</th>\n",
              "      <th>Total Trade Quantity</th>\n",
              "      <th>Turnover (Lacs)</th>\n",
              "    </tr>\n",
              "  </thead>\n",
              "  <tbody>\n",
              "    <tr>\n",
              "      <th>2034</th>\n",
              "      <td>2010-07-21</td>\n",
              "      <td>122.1</td>\n",
              "      <td>123.00</td>\n",
              "      <td>121.05</td>\n",
              "      <td>121.10</td>\n",
              "      <td>121.55</td>\n",
              "      <td>658666</td>\n",
              "      <td>803.56</td>\n",
              "    </tr>\n",
              "    <tr>\n",
              "      <th>2033</th>\n",
              "      <td>2010-07-22</td>\n",
              "      <td>120.3</td>\n",
              "      <td>122.00</td>\n",
              "      <td>120.25</td>\n",
              "      <td>120.75</td>\n",
              "      <td>120.90</td>\n",
              "      <td>293312</td>\n",
              "      <td>355.17</td>\n",
              "    </tr>\n",
              "    <tr>\n",
              "      <th>2032</th>\n",
              "      <td>2010-07-23</td>\n",
              "      <td>121.8</td>\n",
              "      <td>121.95</td>\n",
              "      <td>120.25</td>\n",
              "      <td>120.35</td>\n",
              "      <td>120.65</td>\n",
              "      <td>281312</td>\n",
              "      <td>340.31</td>\n",
              "    </tr>\n",
              "    <tr>\n",
              "      <th>2031</th>\n",
              "      <td>2010-07-26</td>\n",
              "      <td>120.1</td>\n",
              "      <td>121.00</td>\n",
              "      <td>117.10</td>\n",
              "      <td>117.10</td>\n",
              "      <td>117.60</td>\n",
              "      <td>658440</td>\n",
              "      <td>780.01</td>\n",
              "    </tr>\n",
              "    <tr>\n",
              "      <th>2030</th>\n",
              "      <td>2010-07-27</td>\n",
              "      <td>117.6</td>\n",
              "      <td>119.50</td>\n",
              "      <td>112.00</td>\n",
              "      <td>118.80</td>\n",
              "      <td>118.65</td>\n",
              "      <td>586100</td>\n",
              "      <td>694.98</td>\n",
              "    </tr>\n",
              "  </tbody>\n",
              "</table>\n",
              "</div>\n",
              "      <button class=\"colab-df-convert\" onclick=\"convertToInteractive('df-11417b5a-21d8-4242-8bc6-d37494df0f44')\"\n",
              "              title=\"Convert this dataframe to an interactive table.\"\n",
              "              style=\"display:none;\">\n",
              "\n",
              "  <svg xmlns=\"http://www.w3.org/2000/svg\" height=\"24px\"viewBox=\"0 0 24 24\"\n",
              "       width=\"24px\">\n",
              "    <path d=\"M0 0h24v24H0V0z\" fill=\"none\"/>\n",
              "    <path d=\"M18.56 5.44l.94 2.06.94-2.06 2.06-.94-2.06-.94-.94-2.06-.94 2.06-2.06.94zm-11 1L8.5 8.5l.94-2.06 2.06-.94-2.06-.94L8.5 2.5l-.94 2.06-2.06.94zm10 10l.94 2.06.94-2.06 2.06-.94-2.06-.94-.94-2.06-.94 2.06-2.06.94z\"/><path d=\"M17.41 7.96l-1.37-1.37c-.4-.4-.92-.59-1.43-.59-.52 0-1.04.2-1.43.59L10.3 9.45l-7.72 7.72c-.78.78-.78 2.05 0 2.83L4 21.41c.39.39.9.59 1.41.59.51 0 1.02-.2 1.41-.59l7.78-7.78 2.81-2.81c.8-.78.8-2.07 0-2.86zM5.41 20L4 18.59l7.72-7.72 1.47 1.35L5.41 20z\"/>\n",
              "  </svg>\n",
              "      </button>\n",
              "\n",
              "\n",
              "\n",
              "    <div id=\"df-41863e03-1e81-45b3-a573-902569ac2ddd\">\n",
              "      <button class=\"colab-df-quickchart\" onclick=\"quickchart('df-41863e03-1e81-45b3-a573-902569ac2ddd')\"\n",
              "              title=\"Suggest charts.\"\n",
              "              style=\"display:none;\">\n",
              "\n",
              "<svg xmlns=\"http://www.w3.org/2000/svg\" height=\"24px\"viewBox=\"0 0 24 24\"\n",
              "     width=\"24px\">\n",
              "    <g>\n",
              "        <path d=\"M19 3H5c-1.1 0-2 .9-2 2v14c0 1.1.9 2 2 2h14c1.1 0 2-.9 2-2V5c0-1.1-.9-2-2-2zM9 17H7v-7h2v7zm4 0h-2V7h2v10zm4 0h-2v-4h2v4z\"/>\n",
              "    </g>\n",
              "</svg>\n",
              "      </button>\n",
              "    </div>\n",
              "\n",
              "<style>\n",
              "  .colab-df-quickchart {\n",
              "    background-color: #E8F0FE;\n",
              "    border: none;\n",
              "    border-radius: 50%;\n",
              "    cursor: pointer;\n",
              "    display: none;\n",
              "    fill: #1967D2;\n",
              "    height: 32px;\n",
              "    padding: 0 0 0 0;\n",
              "    width: 32px;\n",
              "  }\n",
              "\n",
              "  .colab-df-quickchart:hover {\n",
              "    background-color: #E2EBFA;\n",
              "    box-shadow: 0px 1px 2px rgba(60, 64, 67, 0.3), 0px 1px 3px 1px rgba(60, 64, 67, 0.15);\n",
              "    fill: #174EA6;\n",
              "  }\n",
              "\n",
              "  [theme=dark] .colab-df-quickchart {\n",
              "    background-color: #3B4455;\n",
              "    fill: #D2E3FC;\n",
              "  }\n",
              "\n",
              "  [theme=dark] .colab-df-quickchart:hover {\n",
              "    background-color: #434B5C;\n",
              "    box-shadow: 0px 1px 3px 1px rgba(0, 0, 0, 0.15);\n",
              "    filter: drop-shadow(0px 1px 2px rgba(0, 0, 0, 0.3));\n",
              "    fill: #FFFFFF;\n",
              "  }\n",
              "</style>\n",
              "\n",
              "    <script>\n",
              "      async function quickchart(key) {\n",
              "        const containerElement = document.querySelector('#' + key);\n",
              "        const charts = await google.colab.kernel.invokeFunction(\n",
              "            'suggestCharts', [key], {});\n",
              "      }\n",
              "    </script>\n",
              "\n",
              "      <script>\n",
              "\n",
              "function displayQuickchartButton(domScope) {\n",
              "  let quickchartButtonEl =\n",
              "    domScope.querySelector('#df-41863e03-1e81-45b3-a573-902569ac2ddd button.colab-df-quickchart');\n",
              "  quickchartButtonEl.style.display =\n",
              "    google.colab.kernel.accessAllowed ? 'block' : 'none';\n",
              "}\n",
              "\n",
              "        displayQuickchartButton(document);\n",
              "      </script>\n",
              "      <style>\n",
              "    .colab-df-container {\n",
              "      display:flex;\n",
              "      flex-wrap:wrap;\n",
              "      gap: 12px;\n",
              "    }\n",
              "\n",
              "    .colab-df-convert {\n",
              "      background-color: #E8F0FE;\n",
              "      border: none;\n",
              "      border-radius: 50%;\n",
              "      cursor: pointer;\n",
              "      display: none;\n",
              "      fill: #1967D2;\n",
              "      height: 32px;\n",
              "      padding: 0 0 0 0;\n",
              "      width: 32px;\n",
              "    }\n",
              "\n",
              "    .colab-df-convert:hover {\n",
              "      background-color: #E2EBFA;\n",
              "      box-shadow: 0px 1px 2px rgba(60, 64, 67, 0.3), 0px 1px 3px 1px rgba(60, 64, 67, 0.15);\n",
              "      fill: #174EA6;\n",
              "    }\n",
              "\n",
              "    [theme=dark] .colab-df-convert {\n",
              "      background-color: #3B4455;\n",
              "      fill: #D2E3FC;\n",
              "    }\n",
              "\n",
              "    [theme=dark] .colab-df-convert:hover {\n",
              "      background-color: #434B5C;\n",
              "      box-shadow: 0px 1px 3px 1px rgba(0, 0, 0, 0.15);\n",
              "      filter: drop-shadow(0px 1px 2px rgba(0, 0, 0, 0.3));\n",
              "      fill: #FFFFFF;\n",
              "    }\n",
              "  </style>\n",
              "\n",
              "      <script>\n",
              "        const buttonEl =\n",
              "          document.querySelector('#df-11417b5a-21d8-4242-8bc6-d37494df0f44 button.colab-df-convert');\n",
              "        buttonEl.style.display =\n",
              "          google.colab.kernel.accessAllowed ? 'block' : 'none';\n",
              "\n",
              "        async function convertToInteractive(key) {\n",
              "          const element = document.querySelector('#df-11417b5a-21d8-4242-8bc6-d37494df0f44');\n",
              "          const dataTable =\n",
              "            await google.colab.kernel.invokeFunction('convertToInteractive',\n",
              "                                                     [key], {});\n",
              "          if (!dataTable) return;\n",
              "\n",
              "          const docLinkHtml = 'Like what you see? Visit the ' +\n",
              "            '<a target=\"_blank\" href=https://colab.research.google.com/notebooks/data_table.ipynb>data table notebook</a>'\n",
              "            + ' to learn more about interactive tables.';\n",
              "          element.innerHTML = '';\n",
              "          dataTable['output_type'] = 'display_data';\n",
              "          await google.colab.output.renderOutput(dataTable, element);\n",
              "          const docLink = document.createElement('div');\n",
              "          docLink.innerHTML = docLinkHtml;\n",
              "          element.appendChild(docLink);\n",
              "        }\n",
              "      </script>\n",
              "    </div>\n",
              "  </div>\n"
            ]
          },
          "metadata": {},
          "execution_count": 35
        }
      ],
      "source": [
        "df=df.iloc[::-1]\n",
        "df.head()"
      ]
    },
    {
      "cell_type": "code",
      "execution_count": 36,
      "id": "3d2ca5f3",
      "metadata": {
        "colab": {
          "base_uri": "https://localhost:8080/",
          "height": 206
        },
        "id": "3d2ca5f3",
        "outputId": "7fbcbff6-a51c-44ef-d54f-13422c0d0e33"
      },
      "outputs": [
        {
          "output_type": "execute_result",
          "data": {
            "text/plain": [
              "         Date    Open    High     Low    Last   Close  Total Trade Quantity  \\\n",
              "4  2018-09-24  233.55  239.20  230.75  234.00  233.30               3423509   \n",
              "3  2018-09-25  233.30  236.75  232.00  236.25  236.10               2349368   \n",
              "2  2018-09-26  240.00  240.00  232.50  235.00  234.25               2240909   \n",
              "1  2018-09-27  234.55  236.80  231.10  233.80  233.25               5082859   \n",
              "0  2018-09-28  234.05  235.95  230.20  233.50  233.75               3069914   \n",
              "\n",
              "   Turnover (Lacs)  \n",
              "4          7999.55  \n",
              "3          5503.90  \n",
              "2          5248.60  \n",
              "1         11859.95  \n",
              "0          7162.35  "
            ],
            "text/html": [
              "\n",
              "\n",
              "  <div id=\"df-c707520a-000a-4fb7-bb05-aae2c8fa3ab8\">\n",
              "    <div class=\"colab-df-container\">\n",
              "      <div>\n",
              "<style scoped>\n",
              "    .dataframe tbody tr th:only-of-type {\n",
              "        vertical-align: middle;\n",
              "    }\n",
              "\n",
              "    .dataframe tbody tr th {\n",
              "        vertical-align: top;\n",
              "    }\n",
              "\n",
              "    .dataframe thead th {\n",
              "        text-align: right;\n",
              "    }\n",
              "</style>\n",
              "<table border=\"1\" class=\"dataframe\">\n",
              "  <thead>\n",
              "    <tr style=\"text-align: right;\">\n",
              "      <th></th>\n",
              "      <th>Date</th>\n",
              "      <th>Open</th>\n",
              "      <th>High</th>\n",
              "      <th>Low</th>\n",
              "      <th>Last</th>\n",
              "      <th>Close</th>\n",
              "      <th>Total Trade Quantity</th>\n",
              "      <th>Turnover (Lacs)</th>\n",
              "    </tr>\n",
              "  </thead>\n",
              "  <tbody>\n",
              "    <tr>\n",
              "      <th>4</th>\n",
              "      <td>2018-09-24</td>\n",
              "      <td>233.55</td>\n",
              "      <td>239.20</td>\n",
              "      <td>230.75</td>\n",
              "      <td>234.00</td>\n",
              "      <td>233.30</td>\n",
              "      <td>3423509</td>\n",
              "      <td>7999.55</td>\n",
              "    </tr>\n",
              "    <tr>\n",
              "      <th>3</th>\n",
              "      <td>2018-09-25</td>\n",
              "      <td>233.30</td>\n",
              "      <td>236.75</td>\n",
              "      <td>232.00</td>\n",
              "      <td>236.25</td>\n",
              "      <td>236.10</td>\n",
              "      <td>2349368</td>\n",
              "      <td>5503.90</td>\n",
              "    </tr>\n",
              "    <tr>\n",
              "      <th>2</th>\n",
              "      <td>2018-09-26</td>\n",
              "      <td>240.00</td>\n",
              "      <td>240.00</td>\n",
              "      <td>232.50</td>\n",
              "      <td>235.00</td>\n",
              "      <td>234.25</td>\n",
              "      <td>2240909</td>\n",
              "      <td>5248.60</td>\n",
              "    </tr>\n",
              "    <tr>\n",
              "      <th>1</th>\n",
              "      <td>2018-09-27</td>\n",
              "      <td>234.55</td>\n",
              "      <td>236.80</td>\n",
              "      <td>231.10</td>\n",
              "      <td>233.80</td>\n",
              "      <td>233.25</td>\n",
              "      <td>5082859</td>\n",
              "      <td>11859.95</td>\n",
              "    </tr>\n",
              "    <tr>\n",
              "      <th>0</th>\n",
              "      <td>2018-09-28</td>\n",
              "      <td>234.05</td>\n",
              "      <td>235.95</td>\n",
              "      <td>230.20</td>\n",
              "      <td>233.50</td>\n",
              "      <td>233.75</td>\n",
              "      <td>3069914</td>\n",
              "      <td>7162.35</td>\n",
              "    </tr>\n",
              "  </tbody>\n",
              "</table>\n",
              "</div>\n",
              "      <button class=\"colab-df-convert\" onclick=\"convertToInteractive('df-c707520a-000a-4fb7-bb05-aae2c8fa3ab8')\"\n",
              "              title=\"Convert this dataframe to an interactive table.\"\n",
              "              style=\"display:none;\">\n",
              "\n",
              "  <svg xmlns=\"http://www.w3.org/2000/svg\" height=\"24px\"viewBox=\"0 0 24 24\"\n",
              "       width=\"24px\">\n",
              "    <path d=\"M0 0h24v24H0V0z\" fill=\"none\"/>\n",
              "    <path d=\"M18.56 5.44l.94 2.06.94-2.06 2.06-.94-2.06-.94-.94-2.06-.94 2.06-2.06.94zm-11 1L8.5 8.5l.94-2.06 2.06-.94-2.06-.94L8.5 2.5l-.94 2.06-2.06.94zm10 10l.94 2.06.94-2.06 2.06-.94-2.06-.94-.94-2.06-.94 2.06-2.06.94z\"/><path d=\"M17.41 7.96l-1.37-1.37c-.4-.4-.92-.59-1.43-.59-.52 0-1.04.2-1.43.59L10.3 9.45l-7.72 7.72c-.78.78-.78 2.05 0 2.83L4 21.41c.39.39.9.59 1.41.59.51 0 1.02-.2 1.41-.59l7.78-7.78 2.81-2.81c.8-.78.8-2.07 0-2.86zM5.41 20L4 18.59l7.72-7.72 1.47 1.35L5.41 20z\"/>\n",
              "  </svg>\n",
              "      </button>\n",
              "\n",
              "\n",
              "\n",
              "    <div id=\"df-769fcff3-7f43-403a-be58-c7fd91f95d01\">\n",
              "      <button class=\"colab-df-quickchart\" onclick=\"quickchart('df-769fcff3-7f43-403a-be58-c7fd91f95d01')\"\n",
              "              title=\"Suggest charts.\"\n",
              "              style=\"display:none;\">\n",
              "\n",
              "<svg xmlns=\"http://www.w3.org/2000/svg\" height=\"24px\"viewBox=\"0 0 24 24\"\n",
              "     width=\"24px\">\n",
              "    <g>\n",
              "        <path d=\"M19 3H5c-1.1 0-2 .9-2 2v14c0 1.1.9 2 2 2h14c1.1 0 2-.9 2-2V5c0-1.1-.9-2-2-2zM9 17H7v-7h2v7zm4 0h-2V7h2v10zm4 0h-2v-4h2v4z\"/>\n",
              "    </g>\n",
              "</svg>\n",
              "      </button>\n",
              "    </div>\n",
              "\n",
              "<style>\n",
              "  .colab-df-quickchart {\n",
              "    background-color: #E8F0FE;\n",
              "    border: none;\n",
              "    border-radius: 50%;\n",
              "    cursor: pointer;\n",
              "    display: none;\n",
              "    fill: #1967D2;\n",
              "    height: 32px;\n",
              "    padding: 0 0 0 0;\n",
              "    width: 32px;\n",
              "  }\n",
              "\n",
              "  .colab-df-quickchart:hover {\n",
              "    background-color: #E2EBFA;\n",
              "    box-shadow: 0px 1px 2px rgba(60, 64, 67, 0.3), 0px 1px 3px 1px rgba(60, 64, 67, 0.15);\n",
              "    fill: #174EA6;\n",
              "  }\n",
              "\n",
              "  [theme=dark] .colab-df-quickchart {\n",
              "    background-color: #3B4455;\n",
              "    fill: #D2E3FC;\n",
              "  }\n",
              "\n",
              "  [theme=dark] .colab-df-quickchart:hover {\n",
              "    background-color: #434B5C;\n",
              "    box-shadow: 0px 1px 3px 1px rgba(0, 0, 0, 0.15);\n",
              "    filter: drop-shadow(0px 1px 2px rgba(0, 0, 0, 0.3));\n",
              "    fill: #FFFFFF;\n",
              "  }\n",
              "</style>\n",
              "\n",
              "    <script>\n",
              "      async function quickchart(key) {\n",
              "        const containerElement = document.querySelector('#' + key);\n",
              "        const charts = await google.colab.kernel.invokeFunction(\n",
              "            'suggestCharts', [key], {});\n",
              "      }\n",
              "    </script>\n",
              "\n",
              "      <script>\n",
              "\n",
              "function displayQuickchartButton(domScope) {\n",
              "  let quickchartButtonEl =\n",
              "    domScope.querySelector('#df-769fcff3-7f43-403a-be58-c7fd91f95d01 button.colab-df-quickchart');\n",
              "  quickchartButtonEl.style.display =\n",
              "    google.colab.kernel.accessAllowed ? 'block' : 'none';\n",
              "}\n",
              "\n",
              "        displayQuickchartButton(document);\n",
              "      </script>\n",
              "      <style>\n",
              "    .colab-df-container {\n",
              "      display:flex;\n",
              "      flex-wrap:wrap;\n",
              "      gap: 12px;\n",
              "    }\n",
              "\n",
              "    .colab-df-convert {\n",
              "      background-color: #E8F0FE;\n",
              "      border: none;\n",
              "      border-radius: 50%;\n",
              "      cursor: pointer;\n",
              "      display: none;\n",
              "      fill: #1967D2;\n",
              "      height: 32px;\n",
              "      padding: 0 0 0 0;\n",
              "      width: 32px;\n",
              "    }\n",
              "\n",
              "    .colab-df-convert:hover {\n",
              "      background-color: #E2EBFA;\n",
              "      box-shadow: 0px 1px 2px rgba(60, 64, 67, 0.3), 0px 1px 3px 1px rgba(60, 64, 67, 0.15);\n",
              "      fill: #174EA6;\n",
              "    }\n",
              "\n",
              "    [theme=dark] .colab-df-convert {\n",
              "      background-color: #3B4455;\n",
              "      fill: #D2E3FC;\n",
              "    }\n",
              "\n",
              "    [theme=dark] .colab-df-convert:hover {\n",
              "      background-color: #434B5C;\n",
              "      box-shadow: 0px 1px 3px 1px rgba(0, 0, 0, 0.15);\n",
              "      filter: drop-shadow(0px 1px 2px rgba(0, 0, 0, 0.3));\n",
              "      fill: #FFFFFF;\n",
              "    }\n",
              "  </style>\n",
              "\n",
              "      <script>\n",
              "        const buttonEl =\n",
              "          document.querySelector('#df-c707520a-000a-4fb7-bb05-aae2c8fa3ab8 button.colab-df-convert');\n",
              "        buttonEl.style.display =\n",
              "          google.colab.kernel.accessAllowed ? 'block' : 'none';\n",
              "\n",
              "        async function convertToInteractive(key) {\n",
              "          const element = document.querySelector('#df-c707520a-000a-4fb7-bb05-aae2c8fa3ab8');\n",
              "          const dataTable =\n",
              "            await google.colab.kernel.invokeFunction('convertToInteractive',\n",
              "                                                     [key], {});\n",
              "          if (!dataTable) return;\n",
              "\n",
              "          const docLinkHtml = 'Like what you see? Visit the ' +\n",
              "            '<a target=\"_blank\" href=https://colab.research.google.com/notebooks/data_table.ipynb>data table notebook</a>'\n",
              "            + ' to learn more about interactive tables.';\n",
              "          element.innerHTML = '';\n",
              "          dataTable['output_type'] = 'display_data';\n",
              "          await google.colab.output.renderOutput(dataTable, element);\n",
              "          const docLink = document.createElement('div');\n",
              "          docLink.innerHTML = docLinkHtml;\n",
              "          element.appendChild(docLink);\n",
              "        }\n",
              "      </script>\n",
              "    </div>\n",
              "  </div>\n"
            ]
          },
          "metadata": {},
          "execution_count": 36
        }
      ],
      "source": [
        "#from last row\n",
        "df.tail()"
      ]
    },
    {
      "cell_type": "markdown",
      "id": "36bd0782",
      "metadata": {
        "id": "36bd0782"
      },
      "source": [
        "To see no. of columns and rows present in dataset"
      ]
    },
    {
      "cell_type": "code",
      "execution_count": 37,
      "id": "7aefeab8",
      "metadata": {
        "colab": {
          "base_uri": "https://localhost:8080/"
        },
        "id": "7aefeab8",
        "outputId": "502a0650-433b-4e6e-bb1e-e83d9937351f"
      },
      "outputs": [
        {
          "output_type": "execute_result",
          "data": {
            "text/plain": [
              "(2035, 8)"
            ]
          },
          "metadata": {},
          "execution_count": 37
        }
      ],
      "source": [
        "df.shape\n",
        "#columns=2035\n",
        "#rows=8"
      ]
    },
    {
      "cell_type": "markdown",
      "id": "6b4fc9a0",
      "metadata": {
        "id": "6b4fc9a0"
      },
      "source": [
        "#summary of dataset Display info about variables and columns"
      ]
    },
    {
      "cell_type": "code",
      "execution_count": 38,
      "id": "806af4ac",
      "metadata": {
        "colab": {
          "base_uri": "https://localhost:8080/"
        },
        "id": "806af4ac",
        "outputId": "983e818e-b7ba-4282-ea1d-a9208b78c27d"
      },
      "outputs": [
        {
          "output_type": "stream",
          "name": "stdout",
          "text": [
            "<class 'pandas.core.frame.DataFrame'>\n",
            "RangeIndex: 2035 entries, 2034 to 0\n",
            "Data columns (total 8 columns):\n",
            " #   Column                Non-Null Count  Dtype  \n",
            "---  ------                --------------  -----  \n",
            " 0   Date                  2035 non-null   object \n",
            " 1   Open                  2035 non-null   float64\n",
            " 2   High                  2035 non-null   float64\n",
            " 3   Low                   2035 non-null   float64\n",
            " 4   Last                  2035 non-null   float64\n",
            " 5   Close                 2035 non-null   float64\n",
            " 6   Total Trade Quantity  2035 non-null   int64  \n",
            " 7   Turnover (Lacs)       2035 non-null   float64\n",
            "dtypes: float64(6), int64(1), object(1)\n",
            "memory usage: 127.3+ KB\n"
          ]
        }
      ],
      "source": [
        "df.info()"
      ]
    },
    {
      "cell_type": "markdown",
      "id": "e5b8e506",
      "metadata": {
        "id": "e5b8e506"
      },
      "source": [
        "Show Name of columns and its types"
      ]
    },
    {
      "cell_type": "code",
      "execution_count": 39,
      "id": "d13a309b",
      "metadata": {
        "colab": {
          "base_uri": "https://localhost:8080/"
        },
        "id": "d13a309b",
        "outputId": "7295b79a-5037-40ce-fdfc-99a17dd4eeef"
      },
      "outputs": [
        {
          "output_type": "execute_result",
          "data": {
            "text/plain": [
              "Date                     object\n",
              "Open                    float64\n",
              "High                    float64\n",
              "Low                     float64\n",
              "Last                    float64\n",
              "Close                   float64\n",
              "Total Trade Quantity      int64\n",
              "Turnover (Lacs)         float64\n",
              "dtype: object"
            ]
          },
          "metadata": {},
          "execution_count": 39
        }
      ],
      "source": [
        "df.dtypes"
      ]
    },
    {
      "cell_type": "markdown",
      "id": "00a39159",
      "metadata": {
        "id": "00a39159"
      },
      "source": [
        "Describe all df which show all data types of all columns"
      ]
    },
    {
      "cell_type": "code",
      "execution_count": 40,
      "id": "c6a8e91e",
      "metadata": {
        "colab": {
          "base_uri": "https://localhost:8080/"
        },
        "id": "c6a8e91e",
        "outputId": "517515c1-1939-441a-f577-74657300e66c"
      },
      "outputs": [
        {
          "output_type": "execute_result",
          "data": {
            "text/plain": [
              "<bound method NDFrame.describe of             Date    Open    High     Low    Last   Close  \\\n",
              "2034  2010-07-21  122.10  123.00  121.05  121.10  121.55   \n",
              "2033  2010-07-22  120.30  122.00  120.25  120.75  120.90   \n",
              "2032  2010-07-23  121.80  121.95  120.25  120.35  120.65   \n",
              "2031  2010-07-26  120.10  121.00  117.10  117.10  117.60   \n",
              "2030  2010-07-27  117.60  119.50  112.00  118.80  118.65   \n",
              "...          ...     ...     ...     ...     ...     ...   \n",
              "4     2018-09-24  233.55  239.20  230.75  234.00  233.30   \n",
              "3     2018-09-25  233.30  236.75  232.00  236.25  236.10   \n",
              "2     2018-09-26  240.00  240.00  232.50  235.00  234.25   \n",
              "1     2018-09-27  234.55  236.80  231.10  233.80  233.25   \n",
              "0     2018-09-28  234.05  235.95  230.20  233.50  233.75   \n",
              "\n",
              "      Total Trade Quantity  Turnover (Lacs)  \n",
              "2034                658666           803.56  \n",
              "2033                293312           355.17  \n",
              "2032                281312           340.31  \n",
              "2031                658440           780.01  \n",
              "2030                586100           694.98  \n",
              "...                    ...              ...  \n",
              "4                  3423509          7999.55  \n",
              "3                  2349368          5503.90  \n",
              "2                  2240909          5248.60  \n",
              "1                  5082859         11859.95  \n",
              "0                  3069914          7162.35  \n",
              "\n",
              "[2035 rows x 8 columns]>"
            ]
          },
          "metadata": {},
          "execution_count": 40
        }
      ],
      "source": [
        "df.describe"
      ]
    },
    {
      "cell_type": "markdown",
      "id": "1ad3d6d1",
      "metadata": {
        "id": "1ad3d6d1"
      },
      "source": [
        " #  Data Preprocessing"
      ]
    },
    {
      "cell_type": "markdown",
      "id": "232b4dbb",
      "metadata": {
        "id": "232b4dbb"
      },
      "source": [
        "Check the is any null values are present or not"
      ]
    },
    {
      "cell_type": "code",
      "execution_count": 41,
      "id": "fc89b5f5",
      "metadata": {
        "colab": {
          "base_uri": "https://localhost:8080/"
        },
        "id": "fc89b5f5",
        "outputId": "36f76c7a-ff17-4b4d-a9f6-f4b82f9f570e"
      },
      "outputs": [
        {
          "output_type": "execute_result",
          "data": {
            "text/plain": [
              "Date                    0\n",
              "Open                    0\n",
              "High                    0\n",
              "Low                     0\n",
              "Last                    0\n",
              "Close                   0\n",
              "Total Trade Quantity    0\n",
              "Turnover (Lacs)         0\n",
              "dtype: int64"
            ]
          },
          "metadata": {},
          "execution_count": 41
        }
      ],
      "source": [
        "df.isnull().sum()"
      ]
    },
    {
      "cell_type": "markdown",
      "id": "d9bd4574",
      "metadata": {
        "id": "d9bd4574"
      },
      "source": [
        "Describe the perticular columns"
      ]
    },
    {
      "cell_type": "code",
      "execution_count": 42,
      "id": "22bcedb1",
      "metadata": {
        "colab": {
          "base_uri": "https://localhost:8080/"
        },
        "id": "22bcedb1",
        "outputId": "03a144a9-2088-4b26-d432-639206abe976"
      },
      "outputs": [
        {
          "output_type": "stream",
          "name": "stdout",
          "text": [
            "count           2035\n",
            "unique          2035\n",
            "top       2010-07-21\n",
            "freq               1\n",
            "Name: Date, dtype: object\n"
          ]
        }
      ],
      "source": [
        "print(df[\"Date\"].describe())"
      ]
    },
    {
      "cell_type": "markdown",
      "id": "f3f3fd41",
      "metadata": {
        "id": "f3f3fd41"
      },
      "source": [
        "**Check Duplicates Present Or Not**"
      ]
    },
    {
      "cell_type": "code",
      "execution_count": 43,
      "id": "d1b78897",
      "metadata": {
        "colab": {
          "base_uri": "https://localhost:8080/"
        },
        "id": "d1b78897",
        "outputId": "ccb08182-7381-4064-8988-1567d7255dc8"
      },
      "outputs": [
        {
          "output_type": "execute_result",
          "data": {
            "text/plain": [
              "False    2035\n",
              "dtype: int64"
            ]
          },
          "metadata": {},
          "execution_count": 43
        }
      ],
      "source": [
        "duplicates= df.duplicated()\n",
        "duplicates.value_counts()"
      ]
    },
    {
      "cell_type": "markdown",
      "id": "eea135a2",
      "metadata": {
        "id": "eea135a2"
      },
      "source": [
        "**Creates a correlation heatmap to visualize the correlation between columns in a DataFrame df.**"
      ]
    },
    {
      "cell_type": "code",
      "execution_count": 44,
      "id": "73edcc42",
      "metadata": {
        "colab": {
          "base_uri": "https://localhost:8080/",
          "height": 725
        },
        "id": "73edcc42",
        "outputId": "09175992-c99c-4349-81ff-d9db711fc1f7"
      },
      "outputs": [
        {
          "output_type": "stream",
          "name": "stderr",
          "text": [
            "<ipython-input-44-40557f091158>:2: FutureWarning: The default value of numeric_only in DataFrame.corr is deprecated. In a future version, it will default to False. Select only valid columns or specify the value of numeric_only to silence this warning.\n",
            "  sns.heatmap(df.corr(), annot=True)\n"
          ]
        },
        {
          "output_type": "execute_result",
          "data": {
            "text/plain": [
              "<Axes: >"
            ]
          },
          "metadata": {},
          "execution_count": 44
        },
        {
          "output_type": "display_data",
          "data": {
            "text/plain": [
              "<Figure size 600x600 with 2 Axes>"
            ],
            "image/png": "[encoded data removed]"
          },
          "metadata": {}
        }
      ],
      "source": [
        "plt.figure(figsize=(6,6))\n",
        "sns.heatmap(df.corr(), annot=True)"
      ]
    },
    {
      "cell_type": "markdown",
      "id": "316c63ca",
      "metadata": {
        "id": "316c63ca"
      },
      "source": [
        "**Plots the 'High' column from the DataFrame df as a line graph**"
      ]
    },
    {
      "cell_type": "code",
      "execution_count": 45,
      "id": "b0e3afa6",
      "metadata": {
        "colab": {
          "base_uri": "https://localhost:8080/",
          "height": 447
        },
        "id": "b0e3afa6",
        "outputId": "364b8010-2f21-46e8-ad9f-a0f164a13209"
      },
      "outputs": [
        {
          "output_type": "execute_result",
          "data": {
            "text/plain": [
              "[<matplotlib.lines.Line2D at 0x7cb74ce5ea40>]"
            ]
          },
          "metadata": {},
          "execution_count": 45
        },
        {
          "output_type": "display_data",
          "data": {
            "text/plain": [
              "<Figure size 640x480 with 1 Axes>"
            ],
            "image/png": "[encoded data removed]"
          },
          "metadata": {}
        }
      ],
      "source": [
        "df_high=df.reset_index()['High']\n",
        "plt.plot(df_high)"
      ]
    },
    {
      "cell_type": "markdown",
      "id": "c7630e5a",
      "metadata": {
        "id": "c7630e5a"
      },
      "source": [
        "**Rescales the 'High' column of the DataFrame 'df' to have values between 0 and 1**"
      ]
    },
    {
      "cell_type": "code",
      "execution_count": 46,
      "id": "4f97690c",
      "metadata": {
        "id": "4f97690c"
      },
      "outputs": [],
      "source": [
        "from sklearn.preprocessing import MinMaxScaler\n",
        "scaler = MinMaxScaler(feature_range = (0,1))\n",
        "df_high = scaler.fit_transform(np.array(df_high).reshape(-1,1))"
      ]
    },
    {
      "cell_type": "code",
      "execution_count": 47,
      "id": "53d804c4",
      "metadata": {
        "colab": {
          "base_uri": "https://localhost:8080/"
        },
        "id": "53d804c4",
        "outputId": "ecea086b-6480-4e3a-a028-73273dd9e447"
      },
      "outputs": [
        {
          "output_type": "execute_result",
          "data": {
            "text/plain": [
              "array([[0.16344786],\n",
              "       [0.15938199],\n",
              "       [0.15917869],\n",
              "       ...,\n",
              "       [0.6391543 ],\n",
              "       [0.62614353],\n",
              "       [0.62268754]])"
            ]
          },
          "metadata": {},
          "execution_count": 47
        }
      ],
      "source": [
        "df_high"
      ]
    },
    {
      "cell_type": "markdown",
      "id": "7cf2f4dc",
      "metadata": {
        "id": "7cf2f4dc"
      },
      "source": [
        "Show no of columns and rows"
      ]
    },
    {
      "cell_type": "code",
      "execution_count": 48,
      "id": "6a525134",
      "metadata": {
        "colab": {
          "base_uri": "https://localhost:8080/"
        },
        "id": "6a525134",
        "outputId": "fe92b822-8ac8-4a88-dc81-5e905abe12e1"
      },
      "outputs": [
        {
          "output_type": "execute_result",
          "data": {
            "text/plain": [
              "(2035, 1)"
            ]
          },
          "metadata": {},
          "execution_count": 48
        }
      ],
      "source": [
        "df_high.shape"
      ]
    },
    {
      "cell_type": "markdown",
      "id": "7d188ed5",
      "metadata": {
        "id": "7d188ed5"
      },
      "source": [
        "# Split the data into train and test split"
      ]
    },
    {
      "cell_type": "code",
      "execution_count": 49,
      "id": "ac71641a",
      "metadata": {
        "id": "ac71641a"
      },
      "outputs": [],
      "source": [
        "training_size = int(len(df_high) * 0.75)\n",
        "test_size = len(df_high) - training_size\n",
        "train_data,test_data = df_high[0:training_size,:], df_high[training_size:len(df_high),:1]"
      ]
    },
    {
      "cell_type": "code",
      "execution_count": 50,
      "id": "1f8fe402",
      "metadata": {
        "colab": {
          "base_uri": "https://localhost:8080/"
        },
        "id": "1f8fe402",
        "outputId": "6c300f95-6461-4dc1-ebd6-e39ffd95a811"
      },
      "outputs": [
        {
          "output_type": "execute_result",
          "data": {
            "text/plain": [
              "(1526, 509)"
            ]
          },
          "metadata": {},
          "execution_count": 50
        }
      ],
      "source": [
        "training_size, test_size"
      ]
    },
    {
      "cell_type": "markdown",
      "id": "c5347d04",
      "metadata": {
        "id": "c5347d04"
      },
      "source": [
        "**Convert an array of values into a dataset matrix**"
      ]
    },
    {
      "cell_type": "code",
      "execution_count": 51,
      "id": "1e390d29",
      "metadata": {
        "id": "1e390d29"
      },
      "outputs": [],
      "source": [
        "def create_supervised_dataset(dataset, time_step=1):\n",
        "    dataX, dataY = [], []\n",
        "    for i in range(len(dataset) - time_step):\n",
        "        dataX.append(dataset[i: i + time_step])\n",
        "        dataY.append(dataset[i + time_step])\n",
        "    return np.array(dataX), np.array(dataY)\n"
      ]
    },
    {
      "cell_type": "code",
      "execution_count": 52,
      "id": "c8a4067e",
      "metadata": {
        "id": "c8a4067e"
      },
      "outputs": [],
      "source": [
        "time_step = 100\n",
        "x_train, y_train = create_supervised_dataset(train_data, time_step)\n",
        "x_test, y_test = create_supervised_dataset(test_data, time_step)"
      ]
    },
    {
      "cell_type": "markdown",
      "id": "b49da328",
      "metadata": {
        "id": "b49da328"
      },
      "source": [
        "**Reshape the input data to a 3D format with the shape [samples, time steps, features], which is the required input format for LSTM models**"
      ]
    },
    {
      "cell_type": "code",
      "execution_count": 53,
      "id": "756e7d67",
      "metadata": {
        "id": "756e7d67"
      },
      "outputs": [],
      "source": [
        "x_train = x_train.reshape(x_train.shape[0], x_train.shape[1], 1)\n",
        "x_test = x_test.reshape(x_test.shape[0], x_test.shape[1], 1)"
      ]
    },
    {
      "cell_type": "markdown",
      "id": "a62ec536",
      "metadata": {
        "id": "a62ec536"
      },
      "source": [
        "Now print train and test set"
      ]
    },
    {
      "cell_type": "code",
      "execution_count": 54,
      "id": "d8305cbb",
      "metadata": {
        "colab": {
          "base_uri": "https://localhost:8080/"
        },
        "id": "d8305cbb",
        "outputId": "fc802e5c-3030-4f1b-fcef-f21c647acc7b"
      },
      "outputs": [
        {
          "output_type": "stream",
          "name": "stdout",
          "text": [
            "(1426, 100, 1)\n"
          ]
        }
      ],
      "source": [
        "print(x_train.shape)"
      ]
    },
    {
      "cell_type": "code",
      "execution_count": 55,
      "id": "28575d57",
      "metadata": {
        "colab": {
          "base_uri": "https://localhost:8080/"
        },
        "id": "28575d57",
        "outputId": "1d779ae1-7978-4d93-e710-f707d9b6f07b"
      },
      "outputs": [
        {
          "output_type": "stream",
          "name": "stdout",
          "text": [
            "(1426, 1)\n"
          ]
        }
      ],
      "source": [
        " print(y_train.shape)"
      ]
    },
    {
      "cell_type": "code",
      "execution_count": 56,
      "id": "077019dd",
      "metadata": {
        "colab": {
          "base_uri": "https://localhost:8080/"
        },
        "id": "077019dd",
        "outputId": "3d91a6ba-0c08-4223-81d0-69e75344b521"
      },
      "outputs": [
        {
          "output_type": "stream",
          "name": "stdout",
          "text": [
            "(1426, 100, 1)\n",
            "(1426, 1)\n"
          ]
        },
        {
          "output_type": "execute_result",
          "data": {
            "text/plain": [
              "(None, None)"
            ]
          },
          "metadata": {},
          "execution_count": 56
        }
      ],
      "source": [
        "print(x_train.shape), print(y_train.shape)"
      ]
    },
    {
      "cell_type": "code",
      "execution_count": 57,
      "id": "272f76c1",
      "metadata": {
        "colab": {
          "base_uri": "https://localhost:8080/"
        },
        "id": "272f76c1",
        "outputId": "dc400446-94bf-4d49-b064-2d38f6a843a0"
      },
      "outputs": [
        {
          "output_type": "stream",
          "name": "stdout",
          "text": [
            "(409, 100, 1)\n",
            "(409, 1)\n"
          ]
        },
        {
          "output_type": "execute_result",
          "data": {
            "text/plain": [
              "(None, None)"
            ]
          },
          "metadata": {},
          "execution_count": 57
        }
      ],
      "source": [
        "print(x_test.shape), print(y_test.shape)"
      ]
    },
    {
      "cell_type": "markdown",
      "id": "d701ea84",
      "metadata": {
        "id": "d701ea84"
      },
      "source": [
        "# Importing required libries"
      ]
    },
    {
      "cell_type": "code",
      "execution_count": 58,
      "id": "053a95fb",
      "metadata": {
        "id": "053a95fb"
      },
      "outputs": [],
      "source": [
        "import tensorflow as tf\n",
        "from tensorflow.python.keras.models import Sequential\n",
        "from tensorflow.python.keras.layers import Dense\n",
        "from tensorflow.python.keras.layers import LSTM"
      ]
    },
    {
      "cell_type": "markdown",
      "source": [
        "### Create the Stacked LSTM model\n",
        "\n",
        "\n",
        "\n"
      ],
      "metadata": {
        "id": "NRzrtoztwQjw"
      },
      "id": "NRzrtoztwQjw"
    },
    {
      "cell_type": "code",
      "execution_count": 59,
      "id": "f1733958",
      "metadata": {
        "id": "f1733958"
      },
      "outputs": [],
      "source": [
        "\n",
        "model = Sequential()\n",
        "model.add(LSTM(50, return_sequences = True, input_shape = (100,1)))\n",
        "model.add(LSTM(50, return_sequences = True))\n",
        "model.add(LSTM(50))\n",
        "model.add(Dense(1))\n",
        "model.compile(loss = 'mean_squared_error', optimizer = 'adam')"
      ]
    },
    {
      "cell_type": "code",
      "source": [
        "model.summary()"
      ],
      "metadata": {
        "colab": {
          "base_uri": "https://localhost:8080/"
        },
        "id": "7CgMUeR6wJkg",
        "outputId": "77591355-37ab-4d82-9241-bd2d40c9afdc"
      },
      "id": "7CgMUeR6wJkg",
      "execution_count": 60,
      "outputs": [
        {
          "output_type": "stream",
          "name": "stdout",
          "text": [
            "Model: \"sequential_1\"\n",
            "_________________________________________________________________\n",
            "Layer (type)                 Output Shape              Param #   \n",
            "=================================================================\n",
            "lstm_3 (LSTM)                (None, 100, 50)           10400     \n",
            "_________________________________________________________________\n",
            "lstm_4 (LSTM)                (None, 100, 50)           20200     \n",
            "_________________________________________________________________\n",
            "lstm_5 (LSTM)                (None, 50)                20200     \n",
            "_________________________________________________________________\n",
            "dense_1 (Dense)              (None, 1)                 51        \n",
            "=================================================================\n",
            "Total params: 50,851\n",
            "Trainable params: 50,851\n",
            "Non-trainable params: 0\n",
            "_________________________________________________________________\n"
          ]
        }
      ]
    },
    {
      "cell_type": "markdown",
      "source": [
        "#Trains a deep learning model"
      ],
      "metadata": {
        "id": "9LbcQw0hxDwc"
      },
      "id": "9LbcQw0hxDwc"
    },
    {
      "cell_type": "code",
      "source": [
        "model.fit(x_train, y_train, validation_data = (x_test, y_test), epochs = 100, batch_size = 64, verbose = 1)"
      ],
      "metadata": {
        "colab": {
          "base_uri": "https://localhost:8080/"
        },
        "id": "rtwGzEcowU56",
        "outputId": "94674c48-bf56-47c1-f7cd-87b3f192ebb8"
      },
      "id": "rtwGzEcowU56",
      "execution_count": 61,
      "outputs": [
        {
          "output_type": "stream",
          "name": "stdout",
          "text": [
            "Epoch 1/100\n",
            "23/23 [==============================] - 21s 518ms/step - loss: 0.0103 - val_loss: 0.0300\n",
            "Epoch 2/100\n",
            "23/23 [==============================] - 11s 479ms/step - loss: 0.0017 - val_loss: 0.0031\n",
            "Epoch 3/100\n",
            "23/23 [==============================] - 10s 417ms/step - loss: 8.1437e-04 - val_loss: 0.0036\n",
            "Epoch 4/100\n",
            "23/23 [==============================] - 12s 518ms/step - loss: 7.9116e-04 - val_loss: 0.0045\n",
            "Epoch 5/100\n",
            "23/23 [==============================] - 11s 485ms/step - loss: 7.5509e-04 - val_loss: 0.0032\n",
            "Epoch 6/100\n",
            "23/23 [==============================] - 11s 479ms/step - loss: 7.0184e-04 - val_loss: 0.0035\n",
            "Epoch 7/100\n",
            "23/23 [==============================] - 11s 476ms/step - loss: 6.9157e-04 - val_loss: 0.0029\n",
            "Epoch 8/100\n",
            "23/23 [==============================] - 11s 482ms/step - loss: 6.5723e-04 - val_loss: 0.0024\n",
            "Epoch 9/100\n",
            "23/23 [==============================] - 12s 531ms/step - loss: 6.3809e-04 - val_loss: 0.0024\n",
            "Epoch 10/100\n",
            "23/23 [==============================] - 10s 417ms/step - loss: 6.3920e-04 - val_loss: 0.0026\n",
            "Epoch 11/100\n",
            "23/23 [==============================] - 18s 782ms/step - loss: 5.9890e-04 - val_loss: 0.0036\n",
            "Epoch 12/100\n",
            "23/23 [==============================] - 12s 488ms/step - loss: 5.7542e-04 - val_loss: 0.0027\n",
            "Epoch 13/100\n",
            "23/23 [==============================] - 22s 971ms/step - loss: 5.5660e-04 - val_loss: 0.0044\n",
            "Epoch 14/100\n",
            "23/23 [==============================] - 11s 494ms/step - loss: 5.2350e-04 - val_loss: 0.0039\n",
            "Epoch 15/100\n",
            "23/23 [==============================] - 11s 480ms/step - loss: 5.4530e-04 - val_loss: 0.0038\n",
            "Epoch 16/100\n",
            "23/23 [==============================] - 11s 483ms/step - loss: 5.1308e-04 - val_loss: 0.0025\n",
            "Epoch 17/100\n",
            "23/23 [==============================] - 11s 483ms/step - loss: 5.2521e-04 - val_loss: 0.0059\n",
            "Epoch 18/100\n",
            "23/23 [==============================] - 11s 486ms/step - loss: 4.7234e-04 - val_loss: 0.0068\n",
            "Epoch 19/100\n",
            "23/23 [==============================] - 10s 422ms/step - loss: 4.5082e-04 - val_loss: 0.0037\n",
            "Epoch 20/100\n",
            "23/23 [==============================] - 11s 473ms/step - loss: 4.2532e-04 - val_loss: 0.0050\n",
            "Epoch 21/100\n",
            "23/23 [==============================] - 11s 484ms/step - loss: 4.1881e-04 - val_loss: 0.0082\n",
            "Epoch 22/100\n",
            "23/23 [==============================] - 11s 484ms/step - loss: 4.2086e-04 - val_loss: 0.0038\n",
            "Epoch 23/100\n",
            "23/23 [==============================] - 11s 485ms/step - loss: 3.9809e-04 - val_loss: 0.0047\n",
            "Epoch 24/100\n",
            "23/23 [==============================] - 11s 486ms/step - loss: 3.6510e-04 - val_loss: 0.0049\n",
            "Epoch 25/100\n",
            "23/23 [==============================] - 10s 427ms/step - loss: 3.4838e-04 - val_loss: 0.0039\n",
            "Epoch 26/100\n",
            "23/23 [==============================] - 11s 464ms/step - loss: 3.5304e-04 - val_loss: 0.0077\n",
            "Epoch 27/100\n",
            "23/23 [==============================] - 11s 492ms/step - loss: 3.6496e-04 - val_loss: 0.0053\n",
            "Epoch 28/100\n",
            "23/23 [==============================] - 11s 486ms/step - loss: 3.2579e-04 - val_loss: 0.0041\n",
            "Epoch 29/100\n",
            "23/23 [==============================] - 11s 488ms/step - loss: 3.3345e-04 - val_loss: 0.0017\n",
            "Epoch 30/100\n",
            "23/23 [==============================] - 11s 491ms/step - loss: 3.4510e-04 - val_loss: 0.0043\n",
            "Epoch 31/100\n",
            "23/23 [==============================] - 10s 457ms/step - loss: 2.7719e-04 - val_loss: 0.0037\n",
            "Epoch 32/100\n",
            "23/23 [==============================] - 11s 451ms/step - loss: 2.5582e-04 - val_loss: 0.0035\n",
            "Epoch 33/100\n",
            "23/23 [==============================] - 11s 499ms/step - loss: 2.6402e-04 - val_loss: 0.0021\n",
            "Epoch 34/100\n",
            "23/23 [==============================] - 11s 504ms/step - loss: 2.3904e-04 - val_loss: 0.0024\n",
            "Epoch 35/100\n",
            "23/23 [==============================] - 11s 503ms/step - loss: 2.2269e-04 - val_loss: 0.0022\n",
            "Epoch 36/100\n",
            "23/23 [==============================] - 11s 493ms/step - loss: 2.3169e-04 - val_loss: 0.0018\n",
            "Epoch 37/100\n",
            "23/23 [==============================] - 11s 501ms/step - loss: 2.0610e-04 - val_loss: 0.0026\n",
            "Epoch 38/100\n",
            "23/23 [==============================] - 11s 495ms/step - loss: 2.1346e-04 - val_loss: 0.0016\n",
            "Epoch 39/100\n",
            "23/23 [==============================] - 10s 434ms/step - loss: 1.9211e-04 - val_loss: 0.0014\n",
            "Epoch 40/100\n",
            "23/23 [==============================] - 11s 484ms/step - loss: 1.8673e-04 - val_loss: 0.0022\n",
            "Epoch 41/100\n",
            "23/23 [==============================] - 11s 493ms/step - loss: 1.7467e-04 - val_loss: 0.0025\n",
            "Epoch 42/100\n",
            "23/23 [==============================] - 11s 491ms/step - loss: 1.7516e-04 - val_loss: 0.0015\n",
            "Epoch 43/100\n",
            "23/23 [==============================] - 11s 488ms/step - loss: 1.6535e-04 - val_loss: 7.4614e-04\n",
            "Epoch 44/100\n",
            "23/23 [==============================] - 11s 488ms/step - loss: 1.7983e-04 - val_loss: 0.0022\n",
            "Epoch 45/100\n",
            "23/23 [==============================] - 11s 462ms/step - loss: 1.6570e-04 - val_loss: 6.0891e-04\n",
            "Epoch 46/100\n",
            "23/23 [==============================] - 11s 448ms/step - loss: 1.5490e-04 - val_loss: 0.0014\n",
            "Epoch 47/100\n",
            "23/23 [==============================] - 12s 514ms/step - loss: 1.5454e-04 - val_loss: 0.0031\n",
            "Epoch 48/100\n",
            "23/23 [==============================] - 12s 506ms/step - loss: 1.7120e-04 - val_loss: 0.0012\n",
            "Epoch 49/100\n",
            "23/23 [==============================] - 11s 488ms/step - loss: 1.4169e-04 - val_loss: 0.0018\n",
            "Epoch 50/100\n",
            "23/23 [==============================] - 11s 484ms/step - loss: 1.5254e-04 - val_loss: 0.0031\n",
            "Epoch 51/100\n",
            "23/23 [==============================] - 11s 491ms/step - loss: 1.5021e-04 - val_loss: 0.0011\n",
            "Epoch 52/100\n",
            "23/23 [==============================] - 11s 462ms/step - loss: 1.4089e-04 - val_loss: 0.0012\n",
            "Epoch 53/100\n",
            "23/23 [==============================] - 10s 430ms/step - loss: 1.7010e-04 - val_loss: 0.0013\n",
            "Epoch 54/100\n",
            "23/23 [==============================] - 11s 490ms/step - loss: 1.3799e-04 - val_loss: 5.1299e-04\n",
            "Epoch 55/100\n",
            "23/23 [==============================] - 11s 489ms/step - loss: 1.3913e-04 - val_loss: 0.0016\n",
            "Epoch 56/100\n",
            "23/23 [==============================] - 11s 492ms/step - loss: 1.2247e-04 - val_loss: 0.0014\n",
            "Epoch 57/100\n",
            "23/23 [==============================] - 11s 487ms/step - loss: 1.2194e-04 - val_loss: 7.0128e-04\n",
            "Epoch 58/100\n",
            "23/23 [==============================] - 12s 507ms/step - loss: 1.2368e-04 - val_loss: 8.8379e-04\n",
            "Epoch 59/100\n",
            "23/23 [==============================] - 10s 425ms/step - loss: 1.2683e-04 - val_loss: 0.0017\n",
            "Epoch 60/100\n",
            "23/23 [==============================] - 11s 468ms/step - loss: 1.4079e-04 - val_loss: 9.0543e-04\n",
            "Epoch 61/100\n",
            "23/23 [==============================] - 11s 491ms/step - loss: 1.2981e-04 - val_loss: 7.9462e-04\n",
            "Epoch 62/100\n",
            "23/23 [==============================] - 11s 484ms/step - loss: 1.3891e-04 - val_loss: 0.0017\n",
            "Epoch 63/100\n",
            "23/23 [==============================] - 11s 486ms/step - loss: 1.5139e-04 - val_loss: 0.0012\n",
            "Epoch 64/100\n",
            "23/23 [==============================] - 11s 484ms/step - loss: 1.1461e-04 - val_loss: 7.3178e-04\n",
            "Epoch 65/100\n",
            "23/23 [==============================] - 10s 456ms/step - loss: 1.1717e-04 - val_loss: 6.9639e-04\n",
            "Epoch 66/100\n",
            "23/23 [==============================] - 10s 438ms/step - loss: 1.1721e-04 - val_loss: 0.0012\n",
            "Epoch 67/100\n",
            "23/23 [==============================] - 11s 482ms/step - loss: 1.2003e-04 - val_loss: 0.0011\n",
            "Epoch 68/100\n",
            "23/23 [==============================] - 11s 485ms/step - loss: 1.1365e-04 - val_loss: 0.0015\n",
            "Epoch 69/100\n",
            "23/23 [==============================] - 11s 483ms/step - loss: 1.2504e-04 - val_loss: 7.0877e-04\n",
            "Epoch 70/100\n",
            "23/23 [==============================] - 11s 493ms/step - loss: 1.1355e-04 - val_loss: 0.0012\n",
            "Epoch 71/100\n",
            "23/23 [==============================] - 11s 483ms/step - loss: 1.1119e-04 - val_loss: 0.0014\n",
            "Epoch 72/100\n",
            "23/23 [==============================] - 10s 421ms/step - loss: 1.1714e-04 - val_loss: 4.5139e-04\n",
            "Epoch 73/100\n",
            "23/23 [==============================] - 11s 487ms/step - loss: 1.1422e-04 - val_loss: 0.0012\n",
            "Epoch 74/100\n",
            "23/23 [==============================] - 11s 491ms/step - loss: 1.1268e-04 - val_loss: 8.9289e-04\n",
            "Epoch 75/100\n",
            "23/23 [==============================] - 11s 491ms/step - loss: 1.1826e-04 - val_loss: 0.0012\n",
            "Epoch 76/100\n",
            "23/23 [==============================] - 11s 495ms/step - loss: 1.1110e-04 - val_loss: 0.0010\n",
            "Epoch 77/100\n",
            "23/23 [==============================] - 11s 495ms/step - loss: 1.1115e-04 - val_loss: 4.3204e-04\n",
            "Epoch 78/100\n",
            "23/23 [==============================] - 10s 448ms/step - loss: 1.2797e-04 - val_loss: 8.4971e-04\n",
            "Epoch 79/100\n",
            "23/23 [==============================] - 11s 445ms/step - loss: 1.1991e-04 - val_loss: 6.1349e-04\n",
            "Epoch 80/100\n",
            "23/23 [==============================] - 11s 488ms/step - loss: 1.2302e-04 - val_loss: 7.8720e-04\n",
            "Epoch 81/100\n",
            "23/23 [==============================] - 11s 486ms/step - loss: 1.1277e-04 - val_loss: 0.0012\n",
            "Epoch 82/100\n",
            "23/23 [==============================] - 11s 488ms/step - loss: 1.1616e-04 - val_loss: 0.0011\n",
            "Epoch 83/100\n",
            "23/23 [==============================] - 11s 482ms/step - loss: 1.2386e-04 - val_loss: 0.0019\n",
            "Epoch 84/100\n",
            "23/23 [==============================] - 11s 466ms/step - loss: 1.1067e-04 - val_loss: 0.0010\n",
            "Epoch 85/100\n",
            "23/23 [==============================] - 10s 427ms/step - loss: 1.1050e-04 - val_loss: 0.0014\n",
            "Epoch 86/100\n",
            "23/23 [==============================] - 11s 487ms/step - loss: 1.1383e-04 - val_loss: 0.0017\n",
            "Epoch 87/100\n",
            "23/23 [==============================] - 11s 485ms/step - loss: 1.1154e-04 - val_loss: 5.2141e-04\n",
            "Epoch 88/100\n",
            "23/23 [==============================] - 11s 486ms/step - loss: 1.4038e-04 - val_loss: 0.0025\n",
            "Epoch 89/100\n",
            "23/23 [==============================] - 11s 488ms/step - loss: 1.3827e-04 - val_loss: 7.0701e-04\n",
            "Epoch 90/100\n",
            "23/23 [==============================] - 11s 485ms/step - loss: 1.0704e-04 - val_loss: 0.0016\n",
            "Epoch 91/100\n",
            "23/23 [==============================] - 10s 422ms/step - loss: 1.3120e-04 - val_loss: 0.0026\n",
            "Epoch 92/100\n",
            "23/23 [==============================] - 11s 488ms/step - loss: 1.2746e-04 - val_loss: 0.0013\n",
            "Epoch 93/100\n",
            "23/23 [==============================] - 11s 484ms/step - loss: 1.1404e-04 - val_loss: 0.0011\n",
            "Epoch 94/100\n",
            "23/23 [==============================] - 11s 483ms/step - loss: 1.0664e-04 - val_loss: 0.0012\n",
            "Epoch 95/100\n",
            "23/23 [==============================] - 11s 486ms/step - loss: 1.2628e-04 - val_loss: 9.6608e-04\n",
            "Epoch 96/100\n",
            "23/23 [==============================] - 11s 487ms/step - loss: 1.0915e-04 - val_loss: 0.0015\n",
            "Epoch 97/100\n",
            "23/23 [==============================] - 10s 427ms/step - loss: 1.0913e-04 - val_loss: 0.0016\n",
            "Epoch 98/100\n",
            "23/23 [==============================] - 11s 467ms/step - loss: 1.0796e-04 - val_loss: 0.0013\n",
            "Epoch 99/100\n",
            "23/23 [==============================] - 11s 491ms/step - loss: 1.1346e-04 - val_loss: 0.0019\n",
            "Epoch 100/100\n",
            "23/23 [==============================] - 11s 491ms/step - loss: 1.1363e-04 - val_loss: 7.4202e-04\n"
          ]
        },
        {
          "output_type": "execute_result",
          "data": {
            "text/plain": [
              "<tensorflow.python.keras.callbacks.History at 0x7cb74cd865f0>"
            ]
          },
          "metadata": {},
          "execution_count": 61
        }
      ]
    },
    {
      "cell_type": "markdown",
      "source": [
        "#Predictions of test set\n",
        "#Lets predict and check performance metrics"
      ],
      "metadata": {
        "id": "siKvJ7vxxPRo"
      },
      "id": "siKvJ7vxxPRo"
    },
    {
      "cell_type": "code",
      "source": [
        "train_predict = model.predict(x_train)\n",
        "test_predict = model.predict(x_test)"
      ],
      "metadata": {
        "id": "LhDlyKoVxJ7M"
      },
      "id": "LhDlyKoVxJ7M",
      "execution_count": 62,
      "outputs": []
    },
    {
      "cell_type": "markdown",
      "source": [
        "#Performs an inverse transformation on the predicted values (train_predict and test_predict)"
      ],
      "metadata": {
        "id": "H4Mms2K61-TH"
      },
      "id": "H4Mms2K61-TH"
    },
    {
      "cell_type": "code",
      "source": [
        "train_predict = scaler.inverse_transform(train_predict)\n",
        "test_predict = scaler.inverse_transform(test_predict)"
      ],
      "metadata": {
        "id": "o-7lrzig1N96"
      },
      "id": "o-7lrzig1N96",
      "execution_count": 63,
      "outputs": []
    },
    {
      "cell_type": "code",
      "source": [
        "train_predict"
      ],
      "metadata": {
        "colab": {
          "base_uri": "https://localhost:8080/"
        },
        "id": "I0bNBfFk2KfX",
        "outputId": "2e7f9207-2f30-47e0-93f4-ba1a76287476"
      },
      "id": "I0bNBfFk2KfX",
      "execution_count": 64,
      "outputs": [
        {
          "output_type": "execute_result",
          "data": {
            "text/plain": [
              "array([[117.39309],\n",
              "       [114.94027],\n",
              "       [115.73224],\n",
              "       ...,\n",
              "       [145.07132],\n",
              "       [145.97134],\n",
              "       [145.21759]], dtype=float32)"
            ]
          },
          "metadata": {},
          "execution_count": 64
        }
      ]
    },
    {
      "cell_type": "code",
      "source": [
        "test_predict"
      ],
      "metadata": {
        "colab": {
          "base_uri": "https://localhost:8080/"
        },
        "id": "82Qv8cRq2N6L",
        "outputId": "760baddd-8f16-4f8e-e3a1-2eb9147ec6e6"
      },
      "id": "82Qv8cRq2N6L",
      "execution_count": 65,
      "outputs": [
        {
          "output_type": "execute_result",
          "data": {
            "text/plain": [
              "array([[145.97812],\n",
              "       [146.85057],\n",
              "       [147.44724],\n",
              "       [148.27432],\n",
              "       [148.48192],\n",
              "       [146.80153],\n",
              "       [148.32231],\n",
              "       [145.12962],\n",
              "       [144.38977],\n",
              "       [142.22931],\n",
              "       [143.69643],\n",
              "       [144.48412],\n",
              "       [145.14845],\n",
              "       [144.57611],\n",
              "       [142.53964],\n",
              "       [142.01752],\n",
              "       [141.4556 ],\n",
              "       [147.75157],\n",
              "       [147.79208],\n",
              "       [146.02527],\n",
              "       [146.81409],\n",
              "       [145.67839],\n",
              "       [144.5532 ],\n",
              "       [143.94011],\n",
              "       [143.9471 ],\n",
              "       [142.11658],\n",
              "       [143.9283 ],\n",
              "       [147.52504],\n",
              "       [147.73265],\n",
              "       [149.38863],\n",
              "       [150.21968],\n",
              "       [147.0282 ],\n",
              "       [154.40082],\n",
              "       [154.9792 ],\n",
              "       [153.60829],\n",
              "       [155.57658],\n",
              "       [154.46635],\n",
              "       [154.29594],\n",
              "       [153.60123],\n",
              "       [155.23482],\n",
              "       [156.61978],\n",
              "       [156.05621],\n",
              "       [156.10959],\n",
              "       [153.62318],\n",
              "       [155.42734],\n",
              "       [155.59137],\n",
              "       [154.62831],\n",
              "       [152.4602 ],\n",
              "       [154.21896],\n",
              "       [152.33762],\n",
              "       [155.565  ],\n",
              "       [155.68813],\n",
              "       [154.96074],\n",
              "       [154.76161],\n",
              "       [158.52414],\n",
              "       [156.99715],\n",
              "       [156.29834],\n",
              "       [163.69525],\n",
              "       [160.28572],\n",
              "       [159.89883],\n",
              "       [157.70082],\n",
              "       [155.37767],\n",
              "       [156.78816],\n",
              "       [158.17596],\n",
              "       [158.00964],\n",
              "       [156.34238],\n",
              "       [156.64195],\n",
              "       [157.10252],\n",
              "       [156.23799],\n",
              "       [154.0432 ],\n",
              "       [155.51205],\n",
              "       [152.57652],\n",
              "       [149.85188],\n",
              "       [147.53409],\n",
              "       [146.23874],\n",
              "       [149.24016],\n",
              "       [149.53775],\n",
              "       [148.11594],\n",
              "       [153.11575],\n",
              "       [156.11705],\n",
              "       [160.63016],\n",
              "       [158.08125],\n",
              "       [157.04462],\n",
              "       [157.80275],\n",
              "       [158.45349],\n",
              "       [157.16736],\n",
              "       [156.03146],\n",
              "       [159.6645 ],\n",
              "       [162.51254],\n",
              "       [164.83507],\n",
              "       [163.33556],\n",
              "       [160.73029],\n",
              "       [159.87033],\n",
              "       [160.90466],\n",
              "       [160.09326],\n",
              "       [156.23375],\n",
              "       [153.18956],\n",
              "       [151.5778 ],\n",
              "       [153.53209],\n",
              "       [153.57564],\n",
              "       [157.93391],\n",
              "       [155.8814 ],\n",
              "       [159.10822],\n",
              "       [159.46658],\n",
              "       [160.63927],\n",
              "       [170.4672 ],\n",
              "       [175.15495],\n",
              "       [176.73929],\n",
              "       [178.2714 ],\n",
              "       [176.82631],\n",
              "       [181.05371],\n",
              "       [179.65848],\n",
              "       [178.46835],\n",
              "       [177.22252],\n",
              "       [174.62294],\n",
              "       [175.71773],\n",
              "       [173.11609],\n",
              "       [177.37787],\n",
              "       [174.74402],\n",
              "       [171.43336],\n",
              "       [173.94193],\n",
              "       [172.80342],\n",
              "       [169.36288],\n",
              "       [170.90341],\n",
              "       [168.58504],\n",
              "       [173.92667],\n",
              "       [173.1778 ],\n",
              "       [167.56276],\n",
              "       [164.28917],\n",
              "       [166.31898],\n",
              "       [184.45227],\n",
              "       [201.58743],\n",
              "       [198.78426],\n",
              "       [197.0879 ],\n",
              "       [205.00212],\n",
              "       [198.47021],\n",
              "       [198.00415],\n",
              "       [199.17613],\n",
              "       [196.47989],\n",
              "       [198.89937],\n",
              "       [198.8642 ],\n",
              "       [202.1622 ],\n",
              "       [200.85283],\n",
              "       [198.18887],\n",
              "       [197.56319],\n",
              "       [210.71596],\n",
              "       [209.32677],\n",
              "       [211.71149],\n",
              "       [210.66727],\n",
              "       [214.50574],\n",
              "       [214.7649 ],\n",
              "       [213.17923],\n",
              "       [213.52419],\n",
              "       [215.10654],\n",
              "       [221.54012],\n",
              "       [214.29582],\n",
              "       [214.36337],\n",
              "       [208.86151],\n",
              "       [199.1347 ],\n",
              "       [208.96677],\n",
              "       [206.20552],\n",
              "       [204.31459],\n",
              "       [211.89218],\n",
              "       [209.91454],\n",
              "       [206.92041],\n",
              "       [211.63219],\n",
              "       [212.22475],\n",
              "       [210.98178],\n",
              "       [211.06017],\n",
              "       [217.55408],\n",
              "       [210.84148],\n",
              "       [215.26152],\n",
              "       [210.03806],\n",
              "       [214.37717],\n",
              "       [209.93669],\n",
              "       [207.1246 ],\n",
              "       [207.37602],\n",
              "       [211.19766],\n",
              "       [211.55101],\n",
              "       [210.51543],\n",
              "       [225.56155],\n",
              "       [230.87659],\n",
              "       [225.84808],\n",
              "       [231.6994 ],\n",
              "       [228.58228],\n",
              "       [225.5687 ],\n",
              "       [239.30989],\n",
              "       [231.00299],\n",
              "       [224.49243],\n",
              "       [246.0337 ],\n",
              "       [239.21394],\n",
              "       [236.83044],\n",
              "       [248.80608],\n",
              "       [250.37749],\n",
              "       [251.41269],\n",
              "       [259.17007],\n",
              "       [276.83575],\n",
              "       [272.83115],\n",
              "       [267.4737 ],\n",
              "       [271.96515],\n",
              "       [274.09787],\n",
              "       [270.61966],\n",
              "       [289.6144 ],\n",
              "       [278.13806],\n",
              "       [287.76416],\n",
              "       [282.99948],\n",
              "       [275.69202],\n",
              "       [276.73022],\n",
              "       [275.31668],\n",
              "       [279.385  ],\n",
              "       [284.08878],\n",
              "       [295.05676],\n",
              "       [285.2613 ],\n",
              "       [282.45984],\n",
              "       [278.30383],\n",
              "       [284.62936],\n",
              "       [286.59836],\n",
              "       [296.32925],\n",
              "       [292.2896 ],\n",
              "       [293.55502],\n",
              "       [297.9531 ],\n",
              "       [297.16727],\n",
              "       [299.3705 ],\n",
              "       [298.50903],\n",
              "       [312.62503],\n",
              "       [301.87103],\n",
              "       [304.56372],\n",
              "       [303.27573],\n",
              "       [301.92377],\n",
              "       [306.75034],\n",
              "       [308.4907 ],\n",
              "       [307.46457],\n",
              "       [307.0102 ],\n",
              "       [303.59265],\n",
              "       [324.69327],\n",
              "       [309.60727],\n",
              "       [316.56122],\n",
              "       [296.05002],\n",
              "       [310.07956],\n",
              "       [291.83176],\n",
              "       [313.05435],\n",
              "       [290.82428],\n",
              "       [306.41663],\n",
              "       [296.42374],\n",
              "       [296.36014],\n",
              "       [297.43494],\n",
              "       [291.1529 ],\n",
              "       [281.7829 ],\n",
              "       [273.37454],\n",
              "       [267.80127],\n",
              "       [262.41287],\n",
              "       [288.12982],\n",
              "       [273.3908 ],\n",
              "       [272.36584],\n",
              "       [287.6864 ],\n",
              "       [276.63953],\n",
              "       [278.37686],\n",
              "       [273.4618 ],\n",
              "       [268.6091 ],\n",
              "       [267.87503],\n",
              "       [260.5161 ],\n",
              "       [267.09494],\n",
              "       [265.89   ],\n",
              "       [270.88187],\n",
              "       [274.63943],\n",
              "       [267.8625 ],\n",
              "       [272.66138],\n",
              "       [269.1078 ],\n",
              "       [280.89084],\n",
              "       [259.9072 ],\n",
              "       [273.3301 ],\n",
              "       [267.4233 ],\n",
              "       [272.7084 ],\n",
              "       [275.89774],\n",
              "       [273.5331 ],\n",
              "       [279.53656],\n",
              "       [272.87234],\n",
              "       [262.66608],\n",
              "       [255.54446],\n",
              "       [264.86374],\n",
              "       [256.87723],\n",
              "       [253.15237],\n",
              "       [262.05847],\n",
              "       [260.0652 ],\n",
              "       [258.5583 ],\n",
              "       [280.47702],\n",
              "       [265.42657],\n",
              "       [276.9147 ],\n",
              "       [266.212  ],\n",
              "       [271.53705],\n",
              "       [277.20148],\n",
              "       [272.1905 ],\n",
              "       [268.5951 ],\n",
              "       [273.09134],\n",
              "       [269.68784],\n",
              "       [276.20844],\n",
              "       [279.32614],\n",
              "       [280.308  ],\n",
              "       [281.0777 ],\n",
              "       [280.66345],\n",
              "       [279.4982 ],\n",
              "       [280.74387],\n",
              "       [284.94357],\n",
              "       [285.60837],\n",
              "       [286.01352],\n",
              "       [291.77707],\n",
              "       [289.8668 ],\n",
              "       [279.92554],\n",
              "       [285.34198],\n",
              "       [288.1888 ],\n",
              "       [287.23346],\n",
              "       [284.6512 ],\n",
              "       [284.31494],\n",
              "       [280.8668 ],\n",
              "       [269.3757 ],\n",
              "       [243.97107],\n",
              "       [240.63005],\n",
              "       [249.46664],\n",
              "       [244.07281],\n",
              "       [245.95903],\n",
              "       [248.36394],\n",
              "       [248.78056],\n",
              "       [253.13261],\n",
              "       [256.36267],\n",
              "       [258.61102],\n",
              "       [257.9192 ],\n",
              "       [263.09903],\n",
              "       [268.7991 ],\n",
              "       [261.83234],\n",
              "       [259.48965],\n",
              "       [259.91025],\n",
              "       [262.94162],\n",
              "       [265.56165],\n",
              "       [263.1791 ],\n",
              "       [267.18402],\n",
              "       [260.30814],\n",
              "       [267.76672],\n",
              "       [275.3916 ],\n",
              "       [273.81955],\n",
              "       [268.12192],\n",
              "       [268.37662],\n",
              "       [253.65137],\n",
              "       [259.92615],\n",
              "       [258.2086 ],\n",
              "       [264.55533],\n",
              "       [264.30743],\n",
              "       [262.1835 ],\n",
              "       [263.03748],\n",
              "       [265.44406],\n",
              "       [268.46616],\n",
              "       [283.39758],\n",
              "       [268.21136],\n",
              "       [279.8388 ],\n",
              "       [258.39426],\n",
              "       [277.3974 ],\n",
              "       [267.77914],\n",
              "       [270.698  ],\n",
              "       [263.81003],\n",
              "       [258.31305],\n",
              "       [250.18636],\n",
              "       [246.62329],\n",
              "       [245.81622],\n",
              "       [237.19792],\n",
              "       [238.76433],\n",
              "       [242.8015 ],\n",
              "       [247.97592],\n",
              "       [243.9389 ],\n",
              "       [237.87424],\n",
              "       [242.61015],\n",
              "       [244.82535],\n",
              "       [247.72205],\n",
              "       [253.59457],\n",
              "       [225.5818 ],\n",
              "       [242.04236],\n",
              "       [235.73254],\n",
              "       [241.51947],\n",
              "       [236.46902],\n",
              "       [238.1124 ],\n",
              "       [234.32669],\n",
              "       [234.27768],\n",
              "       [237.26064],\n",
              "       [240.86415],\n",
              "       [242.53206],\n",
              "       [245.02365],\n",
              "       [243.35559],\n",
              "       [235.10652],\n",
              "       [234.58992],\n",
              "       [238.16615],\n",
              "       [236.58763],\n",
              "       [235.08391],\n",
              "       [235.07347],\n",
              "       [238.56477],\n",
              "       [242.23303],\n",
              "       [232.64008],\n",
              "       [218.03111],\n",
              "       [225.88136],\n",
              "       [221.95222],\n",
              "       [239.3744 ],\n",
              "       [216.97925],\n",
              "       [225.18721],\n",
              "       [239.07993],\n",
              "       [235.0448 ],\n",
              "       [238.48582],\n",
              "       [233.28549],\n",
              "       [235.65088],\n",
              "       [237.60257],\n",
              "       [233.35114],\n",
              "       [239.99261],\n",
              "       [231.98346]], dtype=float32)"
            ]
          },
          "metadata": {},
          "execution_count": 65
        }
      ]
    },
    {
      "cell_type": "markdown",
      "source": [
        "#Calculate MSE performance metrics"
      ],
      "metadata": {
        "id": "PJHoRxe62Uud"
      },
      "id": "PJHoRxe62Uud"
    },
    {
      "cell_type": "code",
      "source": [
        "import math\n",
        "from sklearn.metrics import mean_squared_error\n",
        "math.sqrt(mean_squared_error(y_train, train_predict))"
      ],
      "metadata": {
        "colab": {
          "base_uri": "https://localhost:8080/"
        },
        "id": "UU4un-Kn2QGU",
        "outputId": "38336c51-f047-4539-e542-91aa4c03bf12"
      },
      "id": "UU4un-Kn2QGU",
      "execution_count": 66,
      "outputs": [
        {
          "output_type": "execute_result",
          "data": {
            "text/plain": [
              "137.2246863039204"
            ]
          },
          "metadata": {},
          "execution_count": 66
        }
      ]
    },
    {
      "cell_type": "code",
      "source": [
        "math.sqrt(mean_squared_error(y_test, test_predict))"
      ],
      "metadata": {
        "colab": {
          "base_uri": "https://localhost:8080/"
        },
        "id": "qqW-ogvH2ifI",
        "outputId": "cebce6bb-47ec-45ff-ffbf-00a104bde938"
      },
      "id": "qqW-ogvH2ifI",
      "execution_count": 67,
      "outputs": [
        {
          "output_type": "execute_result",
          "data": {
            "text/plain": [
              "229.24260036075165"
            ]
          },
          "metadata": {},
          "execution_count": 67
        }
      ]
    },
    {
      "cell_type": "markdown",
      "source": [
        "**Plotting of Shift train prediction**"
      ],
      "metadata": {
        "id": "jlAIsFBx2r5N"
      },
      "id": "jlAIsFBx2r5N"
    },
    {
      "cell_type": "code",
      "source": [
        "look_back = 100\n",
        "trainPredictPlot = np.empty_like(df_high)\n",
        "trainPredictPlot[:,:] = np.nan\n",
        "trainPredictPlot[look_back:len(train_predict) + look_back, :] = train_predict"
      ],
      "metadata": {
        "id": "ELa05WLo2l60"
      },
      "id": "ELa05WLo2l60",
      "execution_count": 68,
      "outputs": []
    },
    {
      "cell_type": "markdown",
      "source": [
        "**Plotting of Shift test prediction**"
      ],
      "metadata": {
        "id": "REQyAHHW3BxK"
      },
      "id": "REQyAHHW3BxK"
    },
    {
      "cell_type": "code",
      "source": [
        "import matplotlib.pyplot as plt\n",
        "\n",
        "# Plot baseline and predictions\n",
        "plt.figure(figsize=(10, 6))\n",
        "plt.plot(scaler.inverse_transform(df_high), label='Original Data', color='blue')\n",
        "plt.plot(trainPredictPlot, label='Training Predictions', color='orange')\n",
        "plt.plot(testPredictPlot, label='Test Predictions', color='green')\n",
        "plt.legend()\n",
        "plt.xlabel('Time Step')\n",
        "plt.ylabel('Value')\n",
        "plt.title('Original Data and Model Predictions')\n",
        "plt.show()\n",
        "\n",
        "print(\"Green indicates the Test Predicted Data\")\n",
        "print(\"Blue indicates the Complete Data\")\n",
        "print(\"Orange indicates the Train Predicted Data\")\n"
      ],
      "metadata": {
        "colab": {
          "base_uri": "https://localhost:8080/",
          "height": 616
        },
        "id": "l__WNCAv22mh",
        "outputId": "c18b3e10-185e-4b2d-d49a-b713e0d7c8c7"
      },
      "id": "l__WNCAv22mh",
      "execution_count": 72,
      "outputs": [
        {
          "output_type": "display_data",
          "data": {
            "text/plain": [
              "<Figure size 1000x600 with 1 Axes>"
            ],
            "image/png": "[encoded data removed]"
          },
          "metadata": {}
        },
        {
          "output_type": "stream",
          "name": "stdout",
          "text": [
            "Green indicates the Test Predicted Data\n",
            "Blue indicates the Complete Data\n",
            "Orange indicates the Train Predicted Data\n"
          ]
        }
      ]
    },
    {
      "cell_type": "markdown",
      "source": [],
      "metadata": {
        "id": "6DgIqU-O6Gm7"
      },
      "id": "6DgIqU-O6Gm7"
    },
    {
      "cell_type": "markdown",
      "source": [
        "**Predict the next 28 days Stock Price**"
      ],
      "metadata": {
        "id": "332LFSVAKqks"
      },
      "id": "332LFSVAKqks"
    },
    {
      "cell_type": "code",
      "source": [
        "len(test_data), x_test.shape\n"
      ],
      "metadata": {
        "colab": {
          "base_uri": "https://localhost:8080/"
        },
        "id": "bGX0JFe-3GAZ",
        "outputId": "cce35a12-1a1f-4afe-d591-61448cf9b21b"
      },
      "id": "bGX0JFe-3GAZ",
      "execution_count": 73,
      "outputs": [
        {
          "output_type": "execute_result",
          "data": {
            "text/plain": [
              "(509, (409, 100, 1))"
            ]
          },
          "metadata": {},
          "execution_count": 73
        }
      ]
    },
    {
      "cell_type": "code",
      "source": [
        "x_input = test_data[409:].reshape(1,-1)\n",
        "x_input.shape"
      ],
      "metadata": {
        "colab": {
          "base_uri": "https://localhost:8080/"
        },
        "id": "fGErHiVy56dx",
        "outputId": "166ba515-f42a-4d62-9299-820652fd7d91"
      },
      "id": "fGErHiVy56dx",
      "execution_count": 74,
      "outputs": [
        {
          "output_type": "execute_result",
          "data": {
            "text/plain": [
              "(1, 100)"
            ]
          },
          "metadata": {},
          "execution_count": 74
        }
      ]
    },
    {
      "cell_type": "code",
      "source": [
        "temp_input = list(x_input)\n",
        "temp_input = temp_input[0].tolist()\n",
        "\n",
        "lst_output=[]\n",
        "n_steps=100\n",
        "nextNumberOfDays = 28\n",
        "i=0\n",
        "\n",
        "while(i<nextNumberOfDays):\n",
        "\n",
        "    if(len(temp_input)>100):\n",
        "        x_input=np.array(temp_input[1:])\n",
        "        print(\"{} day input {}\".format(i,x_input))\n",
        "        x_input=x_input.reshape(1,-1)\n",
        "        x_input = x_input.reshape((1, n_steps, 1))\n",
        "        yhat = model.predict(x_input, verbose=0)\n",
        "        print(\"{} day output {}\".format(i,yhat))\n",
        "        temp_input.extend(yhat[0].tolist())\n",
        "        temp_input=temp_input[1:]\n",
        "        lst_output.extend(yhat.tolist())\n",
        "        i=i+1\n",
        "    else:\n",
        "        x_input = x_input.reshape((1, n_steps,1))\n",
        "        yhat = model.predict(x_input, verbose=0)\n",
        "        print(yhat[0])\n",
        "        temp_input.extend(yhat[0].tolist())\n",
        "        print(len(temp_input))\n",
        "        lst_output.extend(yhat.tolist())\n",
        "        i=i+1\n",
        "\n",
        "print(lst_output)"
      ],
      "metadata": {
        "colab": {
          "base_uri": "https://localhost:8080/"
        },
        "id": "afoq0dnRK0Da",
        "outputId": "e0334fde-8d54-4cd9-9be3-d162240d7da7"
      },
      "id": "afoq0dnRK0Da",
      "execution_count": 75,
      "outputs": [
        {
          "output_type": "stream",
          "name": "stdout",
          "text": [
            "[0.618301]\n",
            "101\n",
            "1 day input [0.86013417 0.85464525 0.84448059 0.8072779  0.71843871 0.66192316\n",
            " 0.67696686 0.67554381 0.67310429 0.68428542 0.68936776 0.70217524\n",
            " 0.71803212 0.72941655 0.73144948 0.74486684 0.76926205 0.75991055\n",
            " 0.74242732 0.73958122 0.74771295 0.75991055 0.7584875  0.76621264\n",
            " 0.75462492 0.76316324 0.79670665 0.80585485 0.7889815  0.78003659\n",
            " 0.73978451 0.73002643 0.73490547 0.74872942 0.75991055 0.75462492\n",
            " 0.75401504 0.76174019 0.7737345  0.82008538 0.80585485 0.81154706\n",
            " 0.77434438 0.78633869 0.79284407 0.78328929 0.77109169 0.74385038\n",
            " 0.71193332 0.68733482 0.67818662 0.65257166 0.64301687 0.65643423\n",
            " 0.67656028 0.67371417 0.65114861 0.65521447 0.66761537 0.67838992\n",
            " 0.69993901 0.63122586 0.63508843 0.64098394 0.64545639 0.64118723\n",
            " 0.63854442 0.63081927 0.62472047 0.6330555  0.64728603 0.6574507\n",
            " 0.66761537 0.66720878 0.64159382 0.62776987 0.63651149 0.63630819\n",
            " 0.62980281 0.62817646 0.63813783 0.65358813 0.63183574 0.57653995\n",
            " 0.57816629 0.57613336 0.61943484 0.57979264 0.57288067 0.62573694\n",
            " 0.63102257 0.6361049  0.62776987 0.6269567  0.63590161 0.62594023\n",
            " 0.6391543  0.62614353 0.62268754 0.61830097]\n",
            "1 day output [[0.6054206]]\n",
            "2 day input [0.85464525 0.84448059 0.8072779  0.71843871 0.66192316 0.67696686\n",
            " 0.67554381 0.67310429 0.68428542 0.68936776 0.70217524 0.71803212\n",
            " 0.72941655 0.73144948 0.74486684 0.76926205 0.75991055 0.74242732\n",
            " 0.73958122 0.74771295 0.75991055 0.7584875  0.76621264 0.75462492\n",
            " 0.76316324 0.79670665 0.80585485 0.7889815  0.78003659 0.73978451\n",
            " 0.73002643 0.73490547 0.74872942 0.75991055 0.75462492 0.75401504\n",
            " 0.76174019 0.7737345  0.82008538 0.80585485 0.81154706 0.77434438\n",
            " 0.78633869 0.79284407 0.78328929 0.77109169 0.74385038 0.71193332\n",
            " 0.68733482 0.67818662 0.65257166 0.64301687 0.65643423 0.67656028\n",
            " 0.67371417 0.65114861 0.65521447 0.66761537 0.67838992 0.69993901\n",
            " 0.63122586 0.63508843 0.64098394 0.64545639 0.64118723 0.63854442\n",
            " 0.63081927 0.62472047 0.6330555  0.64728603 0.6574507  0.66761537\n",
            " 0.66720878 0.64159382 0.62776987 0.63651149 0.63630819 0.62980281\n",
            " 0.62817646 0.63813783 0.65358813 0.63183574 0.57653995 0.57816629\n",
            " 0.57613336 0.61943484 0.57979264 0.57288067 0.62573694 0.63102257\n",
            " 0.6361049  0.62776987 0.6269567  0.63590161 0.62594023 0.6391543\n",
            " 0.62614353 0.62268754 0.61830097 0.60542059]\n",
            "2 day output [[0.5945257]]\n",
            "3 day input [0.84448059 0.8072779  0.71843871 0.66192316 0.67696686 0.67554381\n",
            " 0.67310429 0.68428542 0.68936776 0.70217524 0.71803212 0.72941655\n",
            " 0.73144948 0.74486684 0.76926205 0.75991055 0.74242732 0.73958122\n",
            " 0.74771295 0.75991055 0.7584875  0.76621264 0.75462492 0.76316324\n",
            " 0.79670665 0.80585485 0.7889815  0.78003659 0.73978451 0.73002643\n",
            " 0.73490547 0.74872942 0.75991055 0.75462492 0.75401504 0.76174019\n",
            " 0.7737345  0.82008538 0.80585485 0.81154706 0.77434438 0.78633869\n",
            " 0.79284407 0.78328929 0.77109169 0.74385038 0.71193332 0.68733482\n",
            " 0.67818662 0.65257166 0.64301687 0.65643423 0.67656028 0.67371417\n",
            " 0.65114861 0.65521447 0.66761537 0.67838992 0.69993901 0.63122586\n",
            " 0.63508843 0.64098394 0.64545639 0.64118723 0.63854442 0.63081927\n",
            " 0.62472047 0.6330555  0.64728603 0.6574507  0.66761537 0.66720878\n",
            " 0.64159382 0.62776987 0.63651149 0.63630819 0.62980281 0.62817646\n",
            " 0.63813783 0.65358813 0.63183574 0.57653995 0.57816629 0.57613336\n",
            " 0.61943484 0.57979264 0.57288067 0.62573694 0.63102257 0.6361049\n",
            " 0.62776987 0.6269567  0.63590161 0.62594023 0.6391543  0.62614353\n",
            " 0.62268754 0.61830097 0.60542059 0.59452569]\n",
            "3 day output [[0.58432204]]\n",
            "4 day input [0.8072779  0.71843871 0.66192316 0.67696686 0.67554381 0.67310429\n",
            " 0.68428542 0.68936776 0.70217524 0.71803212 0.72941655 0.73144948\n",
            " 0.74486684 0.76926205 0.75991055 0.74242732 0.73958122 0.74771295\n",
            " 0.75991055 0.7584875  0.76621264 0.75462492 0.76316324 0.79670665\n",
            " 0.80585485 0.7889815  0.78003659 0.73978451 0.73002643 0.73490547\n",
            " 0.74872942 0.75991055 0.75462492 0.75401504 0.76174019 0.7737345\n",
            " 0.82008538 0.80585485 0.81154706 0.77434438 0.78633869 0.79284407\n",
            " 0.78328929 0.77109169 0.74385038 0.71193332 0.68733482 0.67818662\n",
            " 0.65257166 0.64301687 0.65643423 0.67656028 0.67371417 0.65114861\n",
            " 0.65521447 0.66761537 0.67838992 0.69993901 0.63122586 0.63508843\n",
            " 0.64098394 0.64545639 0.64118723 0.63854442 0.63081927 0.62472047\n",
            " 0.6330555  0.64728603 0.6574507  0.66761537 0.66720878 0.64159382\n",
            " 0.62776987 0.63651149 0.63630819 0.62980281 0.62817646 0.63813783\n",
            " 0.65358813 0.63183574 0.57653995 0.57816629 0.57613336 0.61943484\n",
            " 0.57979264 0.57288067 0.62573694 0.63102257 0.6361049  0.62776987\n",
            " 0.6269567  0.63590161 0.62594023 0.6391543  0.62614353 0.62268754\n",
            " 0.61830097 0.60542059 0.59452569 0.58432204]\n",
            "4 day output [[0.57537496]]\n",
            "5 day input [0.71843871 0.66192316 0.67696686 0.67554381 0.67310429 0.68428542\n",
            " 0.68936776 0.70217524 0.71803212 0.72941655 0.73144948 0.74486684\n",
            " 0.76926205 0.75991055 0.74242732 0.73958122 0.74771295 0.75991055\n",
            " 0.7584875  0.76621264 0.75462492 0.76316324 0.79670665 0.80585485\n",
            " 0.7889815  0.78003659 0.73978451 0.73002643 0.73490547 0.74872942\n",
            " 0.75991055 0.75462492 0.75401504 0.76174019 0.7737345  0.82008538\n",
            " 0.80585485 0.81154706 0.77434438 0.78633869 0.79284407 0.78328929\n",
            " 0.77109169 0.74385038 0.71193332 0.68733482 0.67818662 0.65257166\n",
            " 0.64301687 0.65643423 0.67656028 0.67371417 0.65114861 0.65521447\n",
            " 0.66761537 0.67838992 0.69993901 0.63122586 0.63508843 0.64098394\n",
            " 0.64545639 0.64118723 0.63854442 0.63081927 0.62472047 0.6330555\n",
            " 0.64728603 0.6574507  0.66761537 0.66720878 0.64159382 0.62776987\n",
            " 0.63651149 0.63630819 0.62980281 0.62817646 0.63813783 0.65358813\n",
            " 0.63183574 0.57653995 0.57816629 0.57613336 0.61943484 0.57979264\n",
            " 0.57288067 0.62573694 0.63102257 0.6361049  0.62776987 0.6269567\n",
            " 0.63590161 0.62594023 0.6391543  0.62614353 0.62268754 0.61830097\n",
            " 0.60542059 0.59452569 0.58432204 0.57537496]\n",
            "5 day output [[0.5676333]]\n",
            "6 day input [0.66192316 0.67696686 0.67554381 0.67310429 0.68428542 0.68936776\n",
            " 0.70217524 0.71803212 0.72941655 0.73144948 0.74486684 0.76926205\n",
            " 0.75991055 0.74242732 0.73958122 0.74771295 0.75991055 0.7584875\n",
            " 0.76621264 0.75462492 0.76316324 0.79670665 0.80585485 0.7889815\n",
            " 0.78003659 0.73978451 0.73002643 0.73490547 0.74872942 0.75991055\n",
            " 0.75462492 0.75401504 0.76174019 0.7737345  0.82008538 0.80585485\n",
            " 0.81154706 0.77434438 0.78633869 0.79284407 0.78328929 0.77109169\n",
            " 0.74385038 0.71193332 0.68733482 0.67818662 0.65257166 0.64301687\n",
            " 0.65643423 0.67656028 0.67371417 0.65114861 0.65521447 0.66761537\n",
            " 0.67838992 0.69993901 0.63122586 0.63508843 0.64098394 0.64545639\n",
            " 0.64118723 0.63854442 0.63081927 0.62472047 0.6330555  0.64728603\n",
            " 0.6574507  0.66761537 0.66720878 0.64159382 0.62776987 0.63651149\n",
            " 0.63630819 0.62980281 0.62817646 0.63813783 0.65358813 0.63183574\n",
            " 0.57653995 0.57816629 0.57613336 0.61943484 0.57979264 0.57288067\n",
            " 0.62573694 0.63102257 0.6361049  0.62776987 0.6269567  0.63590161\n",
            " 0.62594023 0.6391543  0.62614353 0.62268754 0.61830097 0.60542059\n",
            " 0.59452569 0.58432204 0.57537496 0.56763327]\n",
            "6 day output [[0.56092995]]\n",
            "7 day input [0.67696686 0.67554381 0.67310429 0.68428542 0.68936776 0.70217524\n",
            " 0.71803212 0.72941655 0.73144948 0.74486684 0.76926205 0.75991055\n",
            " 0.74242732 0.73958122 0.74771295 0.75991055 0.7584875  0.76621264\n",
            " 0.75462492 0.76316324 0.79670665 0.80585485 0.7889815  0.78003659\n",
            " 0.73978451 0.73002643 0.73490547 0.74872942 0.75991055 0.75462492\n",
            " 0.75401504 0.76174019 0.7737345  0.82008538 0.80585485 0.81154706\n",
            " 0.77434438 0.78633869 0.79284407 0.78328929 0.77109169 0.74385038\n",
            " 0.71193332 0.68733482 0.67818662 0.65257166 0.64301687 0.65643423\n",
            " 0.67656028 0.67371417 0.65114861 0.65521447 0.66761537 0.67838992\n",
            " 0.69993901 0.63122586 0.63508843 0.64098394 0.64545639 0.64118723\n",
            " 0.63854442 0.63081927 0.62472047 0.6330555  0.64728603 0.6574507\n",
            " 0.66761537 0.66720878 0.64159382 0.62776987 0.63651149 0.63630819\n",
            " 0.62980281 0.62817646 0.63813783 0.65358813 0.63183574 0.57653995\n",
            " 0.57816629 0.57613336 0.61943484 0.57979264 0.57288067 0.62573694\n",
            " 0.63102257 0.6361049  0.62776987 0.6269567  0.63590161 0.62594023\n",
            " 0.6391543  0.62614353 0.62268754 0.61830097 0.60542059 0.59452569\n",
            " 0.58432204 0.57537496 0.56763327 0.56092995]\n",
            "7 day output [[0.5551026]]\n",
            "8 day input [0.67554381 0.67310429 0.68428542 0.68936776 0.70217524 0.71803212\n",
            " 0.72941655 0.73144948 0.74486684 0.76926205 0.75991055 0.74242732\n",
            " 0.73958122 0.74771295 0.75991055 0.7584875  0.76621264 0.75462492\n",
            " 0.76316324 0.79670665 0.80585485 0.7889815  0.78003659 0.73978451\n",
            " 0.73002643 0.73490547 0.74872942 0.75991055 0.75462492 0.75401504\n",
            " 0.76174019 0.7737345  0.82008538 0.80585485 0.81154706 0.77434438\n",
            " 0.78633869 0.79284407 0.78328929 0.77109169 0.74385038 0.71193332\n",
            " 0.68733482 0.67818662 0.65257166 0.64301687 0.65643423 0.67656028\n",
            " 0.67371417 0.65114861 0.65521447 0.66761537 0.67838992 0.69993901\n",
            " 0.63122586 0.63508843 0.64098394 0.64545639 0.64118723 0.63854442\n",
            " 0.63081927 0.62472047 0.6330555  0.64728603 0.6574507  0.66761537\n",
            " 0.66720878 0.64159382 0.62776987 0.63651149 0.63630819 0.62980281\n",
            " 0.62817646 0.63813783 0.65358813 0.63183574 0.57653995 0.57816629\n",
            " 0.57613336 0.61943484 0.57979264 0.57288067 0.62573694 0.63102257\n",
            " 0.6361049  0.62776987 0.6269567  0.63590161 0.62594023 0.6391543\n",
            " 0.62614353 0.62268754 0.61830097 0.60542059 0.59452569 0.58432204\n",
            " 0.57537496 0.56763327 0.56092995 0.55510259]\n",
            "8 day output [[0.5500362]]\n",
            "9 day input [0.67310429 0.68428542 0.68936776 0.70217524 0.71803212 0.72941655\n",
            " 0.73144948 0.74486684 0.76926205 0.75991055 0.74242732 0.73958122\n",
            " 0.74771295 0.75991055 0.7584875  0.76621264 0.75462492 0.76316324\n",
            " 0.79670665 0.80585485 0.7889815  0.78003659 0.73978451 0.73002643\n",
            " 0.73490547 0.74872942 0.75991055 0.75462492 0.75401504 0.76174019\n",
            " 0.7737345  0.82008538 0.80585485 0.81154706 0.77434438 0.78633869\n",
            " 0.79284407 0.78328929 0.77109169 0.74385038 0.71193332 0.68733482\n",
            " 0.67818662 0.65257166 0.64301687 0.65643423 0.67656028 0.67371417\n",
            " 0.65114861 0.65521447 0.66761537 0.67838992 0.69993901 0.63122586\n",
            " 0.63508843 0.64098394 0.64545639 0.64118723 0.63854442 0.63081927\n",
            " 0.62472047 0.6330555  0.64728603 0.6574507  0.66761537 0.66720878\n",
            " 0.64159382 0.62776987 0.63651149 0.63630819 0.62980281 0.62817646\n",
            " 0.63813783 0.65358813 0.63183574 0.57653995 0.57816629 0.57613336\n",
            " 0.61943484 0.57979264 0.57288067 0.62573694 0.63102257 0.6361049\n",
            " 0.62776987 0.6269567  0.63590161 0.62594023 0.6391543  0.62614353\n",
            " 0.62268754 0.61830097 0.60542059 0.59452569 0.58432204 0.57537496\n",
            " 0.56763327 0.56092995 0.55510259 0.55003619]\n",
            "9 day output [[0.54565835]]\n",
            "10 day input [0.68428542 0.68936776 0.70217524 0.71803212 0.72941655 0.73144948\n",
            " 0.74486684 0.76926205 0.75991055 0.74242732 0.73958122 0.74771295\n",
            " 0.75991055 0.7584875  0.76621264 0.75462492 0.76316324 0.79670665\n",
            " 0.80585485 0.7889815  0.78003659 0.73978451 0.73002643 0.73490547\n",
            " 0.74872942 0.75991055 0.75462492 0.75401504 0.76174019 0.7737345\n",
            " 0.82008538 0.80585485 0.81154706 0.77434438 0.78633869 0.79284407\n",
            " 0.78328929 0.77109169 0.74385038 0.71193332 0.68733482 0.67818662\n",
            " 0.65257166 0.64301687 0.65643423 0.67656028 0.67371417 0.65114861\n",
            " 0.65521447 0.66761537 0.67838992 0.69993901 0.63122586 0.63508843\n",
            " 0.64098394 0.64545639 0.64118723 0.63854442 0.63081927 0.62472047\n",
            " 0.6330555  0.64728603 0.6574507  0.66761537 0.66720878 0.64159382\n",
            " 0.62776987 0.63651149 0.63630819 0.62980281 0.62817646 0.63813783\n",
            " 0.65358813 0.63183574 0.57653995 0.57816629 0.57613336 0.61943484\n",
            " 0.57979264 0.57288067 0.62573694 0.63102257 0.6361049  0.62776987\n",
            " 0.6269567  0.63590161 0.62594023 0.6391543  0.62614353 0.62268754\n",
            " 0.61830097 0.60542059 0.59452569 0.58432204 0.57537496 0.56763327\n",
            " 0.56092995 0.55510259 0.55003619 0.54565835]\n",
            "10 day output [[0.54191685]]\n",
            "11 day input [0.68936776 0.70217524 0.71803212 0.72941655 0.73144948 0.74486684\n",
            " 0.76926205 0.75991055 0.74242732 0.73958122 0.74771295 0.75991055\n",
            " 0.7584875  0.76621264 0.75462492 0.76316324 0.79670665 0.80585485\n",
            " 0.7889815  0.78003659 0.73978451 0.73002643 0.73490547 0.74872942\n",
            " 0.75991055 0.75462492 0.75401504 0.76174019 0.7737345  0.82008538\n",
            " 0.80585485 0.81154706 0.77434438 0.78633869 0.79284407 0.78328929\n",
            " 0.77109169 0.74385038 0.71193332 0.68733482 0.67818662 0.65257166\n",
            " 0.64301687 0.65643423 0.67656028 0.67371417 0.65114861 0.65521447\n",
            " 0.66761537 0.67838992 0.69993901 0.63122586 0.63508843 0.64098394\n",
            " 0.64545639 0.64118723 0.63854442 0.63081927 0.62472047 0.6330555\n",
            " 0.64728603 0.6574507  0.66761537 0.66720878 0.64159382 0.62776987\n",
            " 0.63651149 0.63630819 0.62980281 0.62817646 0.63813783 0.65358813\n",
            " 0.63183574 0.57653995 0.57816629 0.57613336 0.61943484 0.57979264\n",
            " 0.57288067 0.62573694 0.63102257 0.6361049  0.62776987 0.6269567\n",
            " 0.63590161 0.62594023 0.6391543  0.62614353 0.62268754 0.61830097\n",
            " 0.60542059 0.59452569 0.58432204 0.57537496 0.56763327 0.56092995\n",
            " 0.55510259 0.55003619 0.54565835 0.54191685]\n",
            "11 day output [[0.5387611]]\n",
            "12 day input [0.70217524 0.71803212 0.72941655 0.73144948 0.74486684 0.76926205\n",
            " 0.75991055 0.74242732 0.73958122 0.74771295 0.75991055 0.7584875\n",
            " 0.76621264 0.75462492 0.76316324 0.79670665 0.80585485 0.7889815\n",
            " 0.78003659 0.73978451 0.73002643 0.73490547 0.74872942 0.75991055\n",
            " 0.75462492 0.75401504 0.76174019 0.7737345  0.82008538 0.80585485\n",
            " 0.81154706 0.77434438 0.78633869 0.79284407 0.78328929 0.77109169\n",
            " 0.74385038 0.71193332 0.68733482 0.67818662 0.65257166 0.64301687\n",
            " 0.65643423 0.67656028 0.67371417 0.65114861 0.65521447 0.66761537\n",
            " 0.67838992 0.69993901 0.63122586 0.63508843 0.64098394 0.64545639\n",
            " 0.64118723 0.63854442 0.63081927 0.62472047 0.6330555  0.64728603\n",
            " 0.6574507  0.66761537 0.66720878 0.64159382 0.62776987 0.63651149\n",
            " 0.63630819 0.62980281 0.62817646 0.63813783 0.65358813 0.63183574\n",
            " 0.57653995 0.57816629 0.57613336 0.61943484 0.57979264 0.57288067\n",
            " 0.62573694 0.63102257 0.6361049  0.62776987 0.6269567  0.63590161\n",
            " 0.62594023 0.6391543  0.62614353 0.62268754 0.61830097 0.60542059\n",
            " 0.59452569 0.58432204 0.57537496 0.56763327 0.56092995 0.55510259\n",
            " 0.55003619 0.54565835 0.54191685 0.53876108]\n",
            "12 day output [[0.5361326]]\n",
            "13 day input [0.71803212 0.72941655 0.73144948 0.74486684 0.76926205 0.75991055\n",
            " 0.74242732 0.73958122 0.74771295 0.75991055 0.7584875  0.76621264\n",
            " 0.75462492 0.76316324 0.79670665 0.80585485 0.7889815  0.78003659\n",
            " 0.73978451 0.73002643 0.73490547 0.74872942 0.75991055 0.75462492\n",
            " 0.75401504 0.76174019 0.7737345  0.82008538 0.80585485 0.81154706\n",
            " 0.77434438 0.78633869 0.79284407 0.78328929 0.77109169 0.74385038\n",
            " 0.71193332 0.68733482 0.67818662 0.65257166 0.64301687 0.65643423\n",
            " 0.67656028 0.67371417 0.65114861 0.65521447 0.66761537 0.67838992\n",
            " 0.69993901 0.63122586 0.63508843 0.64098394 0.64545639 0.64118723\n",
            " 0.63854442 0.63081927 0.62472047 0.6330555  0.64728603 0.6574507\n",
            " 0.66761537 0.66720878 0.64159382 0.62776987 0.63651149 0.63630819\n",
            " 0.62980281 0.62817646 0.63813783 0.65358813 0.63183574 0.57653995\n",
            " 0.57816629 0.57613336 0.61943484 0.57979264 0.57288067 0.62573694\n",
            " 0.63102257 0.6361049  0.62776987 0.6269567  0.63590161 0.62594023\n",
            " 0.6391543  0.62614353 0.62268754 0.61830097 0.60542059 0.59452569\n",
            " 0.58432204 0.57537496 0.56763327 0.56092995 0.55510259 0.55003619\n",
            " 0.54565835 0.54191685 0.53876108 0.53613257]\n",
            "13 day output [[0.5339641]]\n",
            "14 day input [0.72941655 0.73144948 0.74486684 0.76926205 0.75991055 0.74242732\n",
            " 0.73958122 0.74771295 0.75991055 0.7584875  0.76621264 0.75462492\n",
            " 0.76316324 0.79670665 0.80585485 0.7889815  0.78003659 0.73978451\n",
            " 0.73002643 0.73490547 0.74872942 0.75991055 0.75462492 0.75401504\n",
            " 0.76174019 0.7737345  0.82008538 0.80585485 0.81154706 0.77434438\n",
            " 0.78633869 0.79284407 0.78328929 0.77109169 0.74385038 0.71193332\n",
            " 0.68733482 0.67818662 0.65257166 0.64301687 0.65643423 0.67656028\n",
            " 0.67371417 0.65114861 0.65521447 0.66761537 0.67838992 0.69993901\n",
            " 0.63122586 0.63508843 0.64098394 0.64545639 0.64118723 0.63854442\n",
            " 0.63081927 0.62472047 0.6330555  0.64728603 0.6574507  0.66761537\n",
            " 0.66720878 0.64159382 0.62776987 0.63651149 0.63630819 0.62980281\n",
            " 0.62817646 0.63813783 0.65358813 0.63183574 0.57653995 0.57816629\n",
            " 0.57613336 0.61943484 0.57979264 0.57288067 0.62573694 0.63102257\n",
            " 0.6361049  0.62776987 0.6269567  0.63590161 0.62594023 0.6391543\n",
            " 0.62614353 0.62268754 0.61830097 0.60542059 0.59452569 0.58432204\n",
            " 0.57537496 0.56763327 0.56092995 0.55510259 0.55003619 0.54565835\n",
            " 0.54191685 0.53876108 0.53613257 0.5339641 ]\n",
            "14 day output [[0.532184]]\n",
            "15 day input [0.73144948 0.74486684 0.76926205 0.75991055 0.74242732 0.73958122\n",
            " 0.74771295 0.75991055 0.7584875  0.76621264 0.75462492 0.76316324\n",
            " 0.79670665 0.80585485 0.7889815  0.78003659 0.73978451 0.73002643\n",
            " 0.73490547 0.74872942 0.75991055 0.75462492 0.75401504 0.76174019\n",
            " 0.7737345  0.82008538 0.80585485 0.81154706 0.77434438 0.78633869\n",
            " 0.79284407 0.78328929 0.77109169 0.74385038 0.71193332 0.68733482\n",
            " 0.67818662 0.65257166 0.64301687 0.65643423 0.67656028 0.67371417\n",
            " 0.65114861 0.65521447 0.66761537 0.67838992 0.69993901 0.63122586\n",
            " 0.63508843 0.64098394 0.64545639 0.64118723 0.63854442 0.63081927\n",
            " 0.62472047 0.6330555  0.64728603 0.6574507  0.66761537 0.66720878\n",
            " 0.64159382 0.62776987 0.63651149 0.63630819 0.62980281 0.62817646\n",
            " 0.63813783 0.65358813 0.63183574 0.57653995 0.57816629 0.57613336\n",
            " 0.61943484 0.57979264 0.57288067 0.62573694 0.63102257 0.6361049\n",
            " 0.62776987 0.6269567  0.63590161 0.62594023 0.6391543  0.62614353\n",
            " 0.62268754 0.61830097 0.60542059 0.59452569 0.58432204 0.57537496\n",
            " 0.56763327 0.56092995 0.55510259 0.55003619 0.54565835 0.54191685\n",
            " 0.53876108 0.53613257 0.5339641  0.532184  ]\n",
            "15 day output [[0.5307206]]\n",
            "16 day input [0.74486684 0.76926205 0.75991055 0.74242732 0.73958122 0.74771295\n",
            " 0.75991055 0.7584875  0.76621264 0.75462492 0.76316324 0.79670665\n",
            " 0.80585485 0.7889815  0.78003659 0.73978451 0.73002643 0.73490547\n",
            " 0.74872942 0.75991055 0.75462492 0.75401504 0.76174019 0.7737345\n",
            " 0.82008538 0.80585485 0.81154706 0.77434438 0.78633869 0.79284407\n",
            " 0.78328929 0.77109169 0.74385038 0.71193332 0.68733482 0.67818662\n",
            " 0.65257166 0.64301687 0.65643423 0.67656028 0.67371417 0.65114861\n",
            " 0.65521447 0.66761537 0.67838992 0.69993901 0.63122586 0.63508843\n",
            " 0.64098394 0.64545639 0.64118723 0.63854442 0.63081927 0.62472047\n",
            " 0.6330555  0.64728603 0.6574507  0.66761537 0.66720878 0.64159382\n",
            " 0.62776987 0.63651149 0.63630819 0.62980281 0.62817646 0.63813783\n",
            " 0.65358813 0.63183574 0.57653995 0.57816629 0.57613336 0.61943484\n",
            " 0.57979264 0.57288067 0.62573694 0.63102257 0.6361049  0.62776987\n",
            " 0.6269567  0.63590161 0.62594023 0.6391543  0.62614353 0.62268754\n",
            " 0.61830097 0.60542059 0.59452569 0.58432204 0.57537496 0.56763327\n",
            " 0.56092995 0.55510259 0.55003619 0.54565835 0.54191685 0.53876108\n",
            " 0.53613257 0.5339641  0.532184   0.53072059]\n",
            "16 day output [[0.5295075]]\n",
            "17 day input [0.76926205 0.75991055 0.74242732 0.73958122 0.74771295 0.75991055\n",
            " 0.7584875  0.76621264 0.75462492 0.76316324 0.79670665 0.80585485\n",
            " 0.7889815  0.78003659 0.73978451 0.73002643 0.73490547 0.74872942\n",
            " 0.75991055 0.75462492 0.75401504 0.76174019 0.7737345  0.82008538\n",
            " 0.80585485 0.81154706 0.77434438 0.78633869 0.79284407 0.78328929\n",
            " 0.77109169 0.74385038 0.71193332 0.68733482 0.67818662 0.65257166\n",
            " 0.64301687 0.65643423 0.67656028 0.67371417 0.65114861 0.65521447\n",
            " 0.66761537 0.67838992 0.69993901 0.63122586 0.63508843 0.64098394\n",
            " 0.64545639 0.64118723 0.63854442 0.63081927 0.62472047 0.6330555\n",
            " 0.64728603 0.6574507  0.66761537 0.66720878 0.64159382 0.62776987\n",
            " 0.63651149 0.63630819 0.62980281 0.62817646 0.63813783 0.65358813\n",
            " 0.63183574 0.57653995 0.57816629 0.57613336 0.61943484 0.57979264\n",
            " 0.57288067 0.62573694 0.63102257 0.6361049  0.62776987 0.6269567\n",
            " 0.63590161 0.62594023 0.6391543  0.62614353 0.62268754 0.61830097\n",
            " 0.60542059 0.59452569 0.58432204 0.57537496 0.56763327 0.56092995\n",
            " 0.55510259 0.55003619 0.54565835 0.54191685 0.53876108 0.53613257\n",
            " 0.5339641  0.532184   0.53072059 0.52950752]\n",
            "17 day output [[0.528486]]\n",
            "18 day input [0.75991055 0.74242732 0.73958122 0.74771295 0.75991055 0.7584875\n",
            " 0.76621264 0.75462492 0.76316324 0.79670665 0.80585485 0.7889815\n",
            " 0.78003659 0.73978451 0.73002643 0.73490547 0.74872942 0.75991055\n",
            " 0.75462492 0.75401504 0.76174019 0.7737345  0.82008538 0.80585485\n",
            " 0.81154706 0.77434438 0.78633869 0.79284407 0.78328929 0.77109169\n",
            " 0.74385038 0.71193332 0.68733482 0.67818662 0.65257166 0.64301687\n",
            " 0.65643423 0.67656028 0.67371417 0.65114861 0.65521447 0.66761537\n",
            " 0.67838992 0.69993901 0.63122586 0.63508843 0.64098394 0.64545639\n",
            " 0.64118723 0.63854442 0.63081927 0.62472047 0.6330555  0.64728603\n",
            " 0.6574507  0.66761537 0.66720878 0.64159382 0.62776987 0.63651149\n",
            " 0.63630819 0.62980281 0.62817646 0.63813783 0.65358813 0.63183574\n",
            " 0.57653995 0.57816629 0.57613336 0.61943484 0.57979264 0.57288067\n",
            " 0.62573694 0.63102257 0.6361049  0.62776987 0.6269567  0.63590161\n",
            " 0.62594023 0.6391543  0.62614353 0.62268754 0.61830097 0.60542059\n",
            " 0.59452569 0.58432204 0.57537496 0.56763327 0.56092995 0.55510259\n",
            " 0.55003619 0.54565835 0.54191685 0.53876108 0.53613257 0.5339641\n",
            " 0.532184   0.53072059 0.52950752 0.52848601]\n",
            "18 day output [[0.5276067]]\n",
            "19 day input [0.74242732 0.73958122 0.74771295 0.75991055 0.7584875  0.76621264\n",
            " 0.75462492 0.76316324 0.79670665 0.80585485 0.7889815  0.78003659\n",
            " 0.73978451 0.73002643 0.73490547 0.74872942 0.75991055 0.75462492\n",
            " 0.75401504 0.76174019 0.7737345  0.82008538 0.80585485 0.81154706\n",
            " 0.77434438 0.78633869 0.79284407 0.78328929 0.77109169 0.74385038\n",
            " 0.71193332 0.68733482 0.67818662 0.65257166 0.64301687 0.65643423\n",
            " 0.67656028 0.67371417 0.65114861 0.65521447 0.66761537 0.67838992\n",
            " 0.69993901 0.63122586 0.63508843 0.64098394 0.64545639 0.64118723\n",
            " 0.63854442 0.63081927 0.62472047 0.6330555  0.64728603 0.6574507\n",
            " 0.66761537 0.66720878 0.64159382 0.62776987 0.63651149 0.63630819\n",
            " 0.62980281 0.62817646 0.63813783 0.65358813 0.63183574 0.57653995\n",
            " 0.57816629 0.57613336 0.61943484 0.57979264 0.57288067 0.62573694\n",
            " 0.63102257 0.6361049  0.62776987 0.6269567  0.63590161 0.62594023\n",
            " 0.6391543  0.62614353 0.62268754 0.61830097 0.60542059 0.59452569\n",
            " 0.58432204 0.57537496 0.56763327 0.56092995 0.55510259 0.55003619\n",
            " 0.54565835 0.54191685 0.53876108 0.53613257 0.5339641  0.532184\n",
            " 0.53072059 0.52950752 0.52848601 0.52760673]\n",
            "19 day output [[0.5268297]]\n",
            "20 day input [0.73958122 0.74771295 0.75991055 0.7584875  0.76621264 0.75462492\n",
            " 0.76316324 0.79670665 0.80585485 0.7889815  0.78003659 0.73978451\n",
            " 0.73002643 0.73490547 0.74872942 0.75991055 0.75462492 0.75401504\n",
            " 0.76174019 0.7737345  0.82008538 0.80585485 0.81154706 0.77434438\n",
            " 0.78633869 0.79284407 0.78328929 0.77109169 0.74385038 0.71193332\n",
            " 0.68733482 0.67818662 0.65257166 0.64301687 0.65643423 0.67656028\n",
            " 0.67371417 0.65114861 0.65521447 0.66761537 0.67838992 0.69993901\n",
            " 0.63122586 0.63508843 0.64098394 0.64545639 0.64118723 0.63854442\n",
            " 0.63081927 0.62472047 0.6330555  0.64728603 0.6574507  0.66761537\n",
            " 0.66720878 0.64159382 0.62776987 0.63651149 0.63630819 0.62980281\n",
            " 0.62817646 0.63813783 0.65358813 0.63183574 0.57653995 0.57816629\n",
            " 0.57613336 0.61943484 0.57979264 0.57288067 0.62573694 0.63102257\n",
            " 0.6361049  0.62776987 0.6269567  0.63590161 0.62594023 0.6391543\n",
            " 0.62614353 0.62268754 0.61830097 0.60542059 0.59452569 0.58432204\n",
            " 0.57537496 0.56763327 0.56092995 0.55510259 0.55003619 0.54565835\n",
            " 0.54191685 0.53876108 0.53613257 0.5339641  0.532184   0.53072059\n",
            " 0.52950752 0.52848601 0.52760673 0.52682972]\n",
            "20 day output [[0.52612376]]\n",
            "21 day input [0.74771295 0.75991055 0.7584875  0.76621264 0.75462492 0.76316324\n",
            " 0.79670665 0.80585485 0.7889815  0.78003659 0.73978451 0.73002643\n",
            " 0.73490547 0.74872942 0.75991055 0.75462492 0.75401504 0.76174019\n",
            " 0.7737345  0.82008538 0.80585485 0.81154706 0.77434438 0.78633869\n",
            " 0.79284407 0.78328929 0.77109169 0.74385038 0.71193332 0.68733482\n",
            " 0.67818662 0.65257166 0.64301687 0.65643423 0.67656028 0.67371417\n",
            " 0.65114861 0.65521447 0.66761537 0.67838992 0.69993901 0.63122586\n",
            " 0.63508843 0.64098394 0.64545639 0.64118723 0.63854442 0.63081927\n",
            " 0.62472047 0.6330555  0.64728603 0.6574507  0.66761537 0.66720878\n",
            " 0.64159382 0.62776987 0.63651149 0.63630819 0.62980281 0.62817646\n",
            " 0.63813783 0.65358813 0.63183574 0.57653995 0.57816629 0.57613336\n",
            " 0.61943484 0.57979264 0.57288067 0.62573694 0.63102257 0.6361049\n",
            " 0.62776987 0.6269567  0.63590161 0.62594023 0.6391543  0.62614353\n",
            " 0.62268754 0.61830097 0.60542059 0.59452569 0.58432204 0.57537496\n",
            " 0.56763327 0.56092995 0.55510259 0.55003619 0.54565835 0.54191685\n",
            " 0.53876108 0.53613257 0.5339641  0.532184   0.53072059 0.52950752\n",
            " 0.52848601 0.52760673 0.52682972 0.52612376]\n",
            "21 day output [[0.52546453]]\n",
            "22 day input [0.75991055 0.7584875  0.76621264 0.75462492 0.76316324 0.79670665\n",
            " 0.80585485 0.7889815  0.78003659 0.73978451 0.73002643 0.73490547\n",
            " 0.74872942 0.75991055 0.75462492 0.75401504 0.76174019 0.7737345\n",
            " 0.82008538 0.80585485 0.81154706 0.77434438 0.78633869 0.79284407\n",
            " 0.78328929 0.77109169 0.74385038 0.71193332 0.68733482 0.67818662\n",
            " 0.65257166 0.64301687 0.65643423 0.67656028 0.67371417 0.65114861\n",
            " 0.65521447 0.66761537 0.67838992 0.69993901 0.63122586 0.63508843\n",
            " 0.64098394 0.64545639 0.64118723 0.63854442 0.63081927 0.62472047\n",
            " 0.6330555  0.64728603 0.6574507  0.66761537 0.66720878 0.64159382\n",
            " 0.62776987 0.63651149 0.63630819 0.62980281 0.62817646 0.63813783\n",
            " 0.65358813 0.63183574 0.57653995 0.57816629 0.57613336 0.61943484\n",
            " 0.57979264 0.57288067 0.62573694 0.63102257 0.6361049  0.62776987\n",
            " 0.6269567  0.63590161 0.62594023 0.6391543  0.62614353 0.62268754\n",
            " 0.61830097 0.60542059 0.59452569 0.58432204 0.57537496 0.56763327\n",
            " 0.56092995 0.55510259 0.55003619 0.54565835 0.54191685 0.53876108\n",
            " 0.53613257 0.5339641  0.532184   0.53072059 0.52950752 0.52848601\n",
            " 0.52760673 0.52682972 0.52612376 0.52546453]\n",
            "22 day output [[0.5248348]]\n",
            "23 day input [0.7584875  0.76621264 0.75462492 0.76316324 0.79670665 0.80585485\n",
            " 0.7889815  0.78003659 0.73978451 0.73002643 0.73490547 0.74872942\n",
            " 0.75991055 0.75462492 0.75401504 0.76174019 0.7737345  0.82008538\n",
            " 0.80585485 0.81154706 0.77434438 0.78633869 0.79284407 0.78328929\n",
            " 0.77109169 0.74385038 0.71193332 0.68733482 0.67818662 0.65257166\n",
            " 0.64301687 0.65643423 0.67656028 0.67371417 0.65114861 0.65521447\n",
            " 0.66761537 0.67838992 0.69993901 0.63122586 0.63508843 0.64098394\n",
            " 0.64545639 0.64118723 0.63854442 0.63081927 0.62472047 0.6330555\n",
            " 0.64728603 0.6574507  0.66761537 0.66720878 0.64159382 0.62776987\n",
            " 0.63651149 0.63630819 0.62980281 0.62817646 0.63813783 0.65358813\n",
            " 0.63183574 0.57653995 0.57816629 0.57613336 0.61943484 0.57979264\n",
            " 0.57288067 0.62573694 0.63102257 0.6361049  0.62776987 0.6269567\n",
            " 0.63590161 0.62594023 0.6391543  0.62614353 0.62268754 0.61830097\n",
            " 0.60542059 0.59452569 0.58432204 0.57537496 0.56763327 0.56092995\n",
            " 0.55510259 0.55003619 0.54565835 0.54191685 0.53876108 0.53613257\n",
            " 0.5339641  0.532184   0.53072059 0.52950752 0.52848601 0.52760673\n",
            " 0.52682972 0.52612376 0.52546453 0.52483481]\n",
            "23 day output [[0.5242229]]\n",
            "24 day input [0.76621264 0.75462492 0.76316324 0.79670665 0.80585485 0.7889815\n",
            " 0.78003659 0.73978451 0.73002643 0.73490547 0.74872942 0.75991055\n",
            " 0.75462492 0.75401504 0.76174019 0.7737345  0.82008538 0.80585485\n",
            " 0.81154706 0.77434438 0.78633869 0.79284407 0.78328929 0.77109169\n",
            " 0.74385038 0.71193332 0.68733482 0.67818662 0.65257166 0.64301687\n",
            " 0.65643423 0.67656028 0.67371417 0.65114861 0.65521447 0.66761537\n",
            " 0.67838992 0.69993901 0.63122586 0.63508843 0.64098394 0.64545639\n",
            " 0.64118723 0.63854442 0.63081927 0.62472047 0.6330555  0.64728603\n",
            " 0.6574507  0.66761537 0.66720878 0.64159382 0.62776987 0.63651149\n",
            " 0.63630819 0.62980281 0.62817646 0.63813783 0.65358813 0.63183574\n",
            " 0.57653995 0.57816629 0.57613336 0.61943484 0.57979264 0.57288067\n",
            " 0.62573694 0.63102257 0.6361049  0.62776987 0.6269567  0.63590161\n",
            " 0.62594023 0.6391543  0.62614353 0.62268754 0.61830097 0.60542059\n",
            " 0.59452569 0.58432204 0.57537496 0.56763327 0.56092995 0.55510259\n",
            " 0.55003619 0.54565835 0.54191685 0.53876108 0.53613257 0.5339641\n",
            " 0.532184   0.53072059 0.52950752 0.52848601 0.52760673 0.52682972\n",
            " 0.52612376 0.52546453 0.52483481 0.52422291]\n",
            "24 day output [[0.52362156]]\n",
            "25 day input [0.75462492 0.76316324 0.79670665 0.80585485 0.7889815  0.78003659\n",
            " 0.73978451 0.73002643 0.73490547 0.74872942 0.75991055 0.75462492\n",
            " 0.75401504 0.76174019 0.7737345  0.82008538 0.80585485 0.81154706\n",
            " 0.77434438 0.78633869 0.79284407 0.78328929 0.77109169 0.74385038\n",
            " 0.71193332 0.68733482 0.67818662 0.65257166 0.64301687 0.65643423\n",
            " 0.67656028 0.67371417 0.65114861 0.65521447 0.66761537 0.67838992\n",
            " 0.69993901 0.63122586 0.63508843 0.64098394 0.64545639 0.64118723\n",
            " 0.63854442 0.63081927 0.62472047 0.6330555  0.64728603 0.6574507\n",
            " 0.66761537 0.66720878 0.64159382 0.62776987 0.63651149 0.63630819\n",
            " 0.62980281 0.62817646 0.63813783 0.65358813 0.63183574 0.57653995\n",
            " 0.57816629 0.57613336 0.61943484 0.57979264 0.57288067 0.62573694\n",
            " 0.63102257 0.6361049  0.62776987 0.6269567  0.63590161 0.62594023\n",
            " 0.6391543  0.62614353 0.62268754 0.61830097 0.60542059 0.59452569\n",
            " 0.58432204 0.57537496 0.56763327 0.56092995 0.55510259 0.55003619\n",
            " 0.54565835 0.54191685 0.53876108 0.53613257 0.5339641  0.532184\n",
            " 0.53072059 0.52950752 0.52848601 0.52760673 0.52682972 0.52612376\n",
            " 0.52546453 0.52483481 0.52422291 0.52362156]\n",
            "25 day output [[0.5230268]]\n",
            "26 day input [0.76316324 0.79670665 0.80585485 0.7889815  0.78003659 0.73978451\n",
            " 0.73002643 0.73490547 0.74872942 0.75991055 0.75462492 0.75401504\n",
            " 0.76174019 0.7737345  0.82008538 0.80585485 0.81154706 0.77434438\n",
            " 0.78633869 0.79284407 0.78328929 0.77109169 0.74385038 0.71193332\n",
            " 0.68733482 0.67818662 0.65257166 0.64301687 0.65643423 0.67656028\n",
            " 0.67371417 0.65114861 0.65521447 0.66761537 0.67838992 0.69993901\n",
            " 0.63122586 0.63508843 0.64098394 0.64545639 0.64118723 0.63854442\n",
            " 0.63081927 0.62472047 0.6330555  0.64728603 0.6574507  0.66761537\n",
            " 0.66720878 0.64159382 0.62776987 0.63651149 0.63630819 0.62980281\n",
            " 0.62817646 0.63813783 0.65358813 0.63183574 0.57653995 0.57816629\n",
            " 0.57613336 0.61943484 0.57979264 0.57288067 0.62573694 0.63102257\n",
            " 0.6361049  0.62776987 0.6269567  0.63590161 0.62594023 0.6391543\n",
            " 0.62614353 0.62268754 0.61830097 0.60542059 0.59452569 0.58432204\n",
            " 0.57537496 0.56763327 0.56092995 0.55510259 0.55003619 0.54565835\n",
            " 0.54191685 0.53876108 0.53613257 0.5339641  0.532184   0.53072059\n",
            " 0.52950752 0.52848601 0.52760673 0.52682972 0.52612376 0.52546453\n",
            " 0.52483481 0.52422291 0.52362156 0.52302682]\n",
            "26 day output [[0.52243763]]\n",
            "27 day input [0.79670665 0.80585485 0.7889815  0.78003659 0.73978451 0.73002643\n",
            " 0.73490547 0.74872942 0.75991055 0.75462492 0.75401504 0.76174019\n",
            " 0.7737345  0.82008538 0.80585485 0.81154706 0.77434438 0.78633869\n",
            " 0.79284407 0.78328929 0.77109169 0.74385038 0.71193332 0.68733482\n",
            " 0.67818662 0.65257166 0.64301687 0.65643423 0.67656028 0.67371417\n",
            " 0.65114861 0.65521447 0.66761537 0.67838992 0.69993901 0.63122586\n",
            " 0.63508843 0.64098394 0.64545639 0.64118723 0.63854442 0.63081927\n",
            " 0.62472047 0.6330555  0.64728603 0.6574507  0.66761537 0.66720878\n",
            " 0.64159382 0.62776987 0.63651149 0.63630819 0.62980281 0.62817646\n",
            " 0.63813783 0.65358813 0.63183574 0.57653995 0.57816629 0.57613336\n",
            " 0.61943484 0.57979264 0.57288067 0.62573694 0.63102257 0.6361049\n",
            " 0.62776987 0.6269567  0.63590161 0.62594023 0.6391543  0.62614353\n",
            " 0.62268754 0.61830097 0.60542059 0.59452569 0.58432204 0.57537496\n",
            " 0.56763327 0.56092995 0.55510259 0.55003619 0.54565835 0.54191685\n",
            " 0.53876108 0.53613257 0.5339641  0.532184   0.53072059 0.52950752\n",
            " 0.52848601 0.52760673 0.52682972 0.52612376 0.52546453 0.52483481\n",
            " 0.52422291 0.52362156 0.52302682 0.52243763]\n",
            "27 day output [[0.52183026]]\n",
            "[[0.6183009743690491], [0.6054205894470215], [0.5945256948471069], [0.5843220353126526], [0.575374960899353], [0.5676332712173462], [0.5609299540519714], [0.5551025867462158], [0.5500361919403076], [0.5456583499908447], [0.5419168472290039], [0.5387610793113708], [0.5361325740814209], [0.5339640974998474], [0.5321840047836304], [0.530720591545105], [0.5295075178146362], [0.5284860134124756], [0.527606725692749], [0.526829719543457], [0.5261237621307373], [0.5254645347595215], [0.5248348116874695], [0.5242229104042053], [0.5236215591430664], [0.5230268239974976], [0.5224376320838928], [0.5218302607536316]]\n"
          ]
        }
      ]
    },
    {
      "cell_type": "code",
      "source": [
        "day_new = np.arange(1,101)\n",
        "day_pred = np.arange(101,129)"
      ],
      "metadata": {
        "id": "eP_dLX6RMNVe"
      },
      "id": "eP_dLX6RMNVe",
      "execution_count": 76,
      "outputs": []
    },
    {
      "cell_type": "code",
      "source": [
        "day_new.shape"
      ],
      "metadata": {
        "colab": {
          "base_uri": "https://localhost:8080/"
        },
        "id": "NVOOLYFIMPs3",
        "outputId": "e26ab46a-9265-4dcb-c6f3-4bf0625f4013"
      },
      "id": "NVOOLYFIMPs3",
      "execution_count": 77,
      "outputs": [
        {
          "output_type": "execute_result",
          "data": {
            "text/plain": [
              "(100,)"
            ]
          },
          "metadata": {},
          "execution_count": 77
        }
      ]
    },
    {
      "cell_type": "code",
      "source": [
        "day_pred.shape"
      ],
      "metadata": {
        "colab": {
          "base_uri": "https://localhost:8080/"
        },
        "id": "SgWpenc6Qjnk",
        "outputId": "bfe35c4f-67fe-43bb-9fff-def6f29446f1"
      },
      "id": "SgWpenc6Qjnk",
      "execution_count": 78,
      "outputs": [
        {
          "output_type": "execute_result",
          "data": {
            "text/plain": [
              "(28,)"
            ]
          },
          "metadata": {},
          "execution_count": 78
        }
      ]
    },
    {
      "cell_type": "code",
      "source": [
        "\n",
        "len(df_high)"
      ],
      "metadata": {
        "colab": {
          "base_uri": "https://localhost:8080/"
        },
        "id": "RHPkXYeLQlas",
        "outputId": "f5dafe8c-7736-43b5-f23f-3303bc25e208"
      },
      "id": "RHPkXYeLQlas",
      "execution_count": 79,
      "outputs": [
        {
          "output_type": "execute_result",
          "data": {
            "text/plain": [
              "2035"
            ]
          },
          "metadata": {},
          "execution_count": 79
        }
      ]
    },
    {
      "cell_type": "code",
      "source": [
        "plt.plot(day_new, scaler.inverse_transform(df_high[1935:]))\n",
        "plt.plot(day_pred, scaler.inverse_transform(lst_output))"
      ],
      "metadata": {
        "colab": {
          "base_uri": "https://localhost:8080/",
          "height": 451
        },
        "id": "6MdIAWyLQpB9",
        "outputId": "934fca44-3e14-4cec-aaf1-1b5349192c4b"
      },
      "id": "6MdIAWyLQpB9",
      "execution_count": 80,
      "outputs": [
        {
          "output_type": "execute_result",
          "data": {
            "text/plain": [
              "[<matplotlib.lines.Line2D at 0x7cb74c6930a0>]"
            ]
          },
          "metadata": {},
          "execution_count": 80
        },
        {
          "output_type": "display_data",
          "data": {
            "text/plain": [
              "<Figure size 640x480 with 1 Axes>"
            ],
            "image/png": "[encoded data removed]"
          },
          "metadata": {}
        }
      ]
    },
    {
      "cell_type": "code",
      "source": [
        "data_new = df_high.tolist()\n",
        "data_new.extend(lst_output)\n",
        "plt.plot(data_new[2000:])"
      ],
      "metadata": {
        "colab": {
          "base_uri": "https://localhost:8080/",
          "height": 447
        },
        "id": "uPLuBAXwQsj1",
        "outputId": "2fccc4fa-4819-4795-f242-9071488ecafe"
      },
      "id": "uPLuBAXwQsj1",
      "execution_count": 81,
      "outputs": [
        {
          "output_type": "execute_result",
          "data": {
            "text/plain": [
              "[<matplotlib.lines.Line2D at 0x7cb74c8060e0>]"
            ]
          },
          "metadata": {},
          "execution_count": 81
        },
        {
          "output_type": "display_data",
          "data": {
            "text/plain": [
              "<Figure size 640x480 with 1 Axes>"
            ],
            "image/png": "[encoded data removed]"
          },
          "metadata": {}
        }
      ]
    },
    {
      "cell_type": "code",
      "source": [
        "data_new =scaler.inverse_transform(data_new).tolist()"
      ],
      "metadata": {
        "id": "EITexxIzQvDl"
      },
      "id": "EITexxIzQvDl",
      "execution_count": 82,
      "outputs": []
    },
    {
      "cell_type": "code",
      "source": [
        "plt.plot(data_new)"
      ],
      "metadata": {
        "colab": {
          "base_uri": "https://localhost:8080/",
          "height": 447
        },
        "id": "g6YBxhPmQxFw",
        "outputId": "4c1bc2bd-8080-41dc-d0fa-f0b7edd5c28f"
      },
      "id": "g6YBxhPmQxFw",
      "execution_count": 83,
      "outputs": [
        {
          "output_type": "execute_result",
          "data": {
            "text/plain": [
              "[<matplotlib.lines.Line2D at 0x7cb74c705ae0>]"
            ]
          },
          "metadata": {},
          "execution_count": 83
        },
        {
          "output_type": "display_data",
          "data": {
            "text/plain": [
              "<Figure size 640x480 with 1 Axes>"
            ],
            "image/png": "[encoded data removed]"
          },
          "metadata": {}
        }
      ]
    },
    {
      "cell_type": "code",
      "source": [],
      "metadata": {
        "id": "ezC9BQ1wQzJo"
      },
      "id": "ezC9BQ1wQzJo",
      "execution_count": null,
      "outputs": []
    }
  ],
  "metadata": {
    "kernelspec": {
      "display_name": "Python 3 (ipykernel)",
      "language": "python",
      "name": "python3"
    },
    "language_info": {
      "codemirror_mode": {
        "name": "ipython",
        "version": 3
      },
      "file_extension": ".py",
      "mimetype": "text/x-python",
      "name": "python",
      "nbconvert_exporter": "python",
      "pygments_lexer": "ipython3",
      "version": "3.9.13"
    },
    "colab": {
      "provenance": []
    }
  },
  "nbformat": 4,
  "nbformat_minor": 5
}